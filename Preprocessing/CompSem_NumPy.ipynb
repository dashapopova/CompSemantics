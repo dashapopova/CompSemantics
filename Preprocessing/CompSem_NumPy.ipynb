{
  "nbformat": 4,
  "nbformat_minor": 0,
  "metadata": {
    "kernelspec": {
      "display_name": "Python 3",
      "language": "python",
      "name": "python3"
    },
    "language_info": {
      "codemirror_mode": {
        "name": "ipython",
        "version": 3
      },
      "file_extension": ".py",
      "mimetype": "text/x-python",
      "name": "python",
      "nbconvert_exporter": "python",
      "pygments_lexer": "ipython3",
      "version": "3.6.5"
    },
    "colab": {
      "name": "CompSem_NumPy.ipynb",
      "provenance": []
    }
  },
  "cells": [
    {
      "cell_type": "markdown",
      "metadata": {
        "id": "v61nYlvD1_6N"
      },
      "source": [
        "### NumPy\n",
        "\n",
        "Зачем нам нужен NumPy?\n",
        "\n",
        "+ позволяет проводить кучу операций с векторами и матрицами\n",
        "+ быстрее, чем for-loop имплементация\n",
        "+ используется в машинном обучении и AI\n",
        "+ массивы NumPy используются в других модулях питона\n",
        "\n",
        "В Jupyter notebooks, NumPy документация: Help -> NumPy reference."
      ]
    },
    {
      "cell_type": "code",
      "metadata": {
        "id": "ryd4M2YE1_6_"
      },
      "source": [
        "import numpy as np"
      ],
      "execution_count": 1,
      "outputs": []
    },
    {
      "cell_type": "markdown",
      "metadata": {
        "id": "NCG3KUgd1_7j"
      },
      "source": [
        "### Векторы\n",
        "\n",
        "#### Создание вектора"
      ]
    },
    {
      "cell_type": "code",
      "metadata": {
        "colab": {
          "base_uri": "https://localhost:8080/"
        },
        "id": "ow1NNAgD1_7s",
        "outputId": "213beba2-0237-441c-ddb0-a6d651771ab3"
      },
      "source": [
        "np.zeros(6)"
      ],
      "execution_count": 2,
      "outputs": [
        {
          "output_type": "execute_result",
          "data": {
            "text/plain": [
              "array([0., 0., 0., 0., 0., 0.])"
            ]
          },
          "metadata": {
            "tags": []
          },
          "execution_count": 2
        }
      ]
    },
    {
      "cell_type": "code",
      "metadata": {
        "colab": {
          "base_uri": "https://localhost:8080/"
        },
        "id": "LwihJQJw1_7x",
        "outputId": "f5912aa3-3854-4119-a050-6f6e340709c1"
      },
      "source": [
        "np.ones(6)"
      ],
      "execution_count": 3,
      "outputs": [
        {
          "output_type": "execute_result",
          "data": {
            "text/plain": [
              "array([1., 1., 1., 1., 1., 1.])"
            ]
          },
          "metadata": {
            "tags": []
          },
          "execution_count": 3
        }
      ]
    },
    {
      "cell_type": "code",
      "metadata": {
        "colab": {
          "base_uri": "https://localhost:8080/"
        },
        "id": "KhIi1ilu1_8B",
        "outputId": "87c8df37-dc00-48d5-a3af-8709e20fb213"
      },
      "source": [
        "# конвертируем список в массив\n",
        "np.array([2,4,6])"
      ],
      "execution_count": 4,
      "outputs": [
        {
          "output_type": "execute_result",
          "data": {
            "text/plain": [
              "array([2, 4, 6])"
            ]
          },
          "metadata": {
            "tags": []
          },
          "execution_count": 4
        }
      ]
    },
    {
      "cell_type": "code",
      "metadata": {
        "colab": {
          "base_uri": "https://localhost:8080/"
        },
        "id": "5fZDwXCJ1_8L",
        "outputId": "b03f872d-3c42-4b05-bb3d-e969ceee5f8b"
      },
      "source": [
        "# массив в список\n",
        "np.ones(6).tolist()"
      ],
      "execution_count": 5,
      "outputs": [
        {
          "output_type": "execute_result",
          "data": {
            "text/plain": [
              "[1.0, 1.0, 1.0, 1.0, 1.0, 1.0]"
            ]
          },
          "metadata": {
            "tags": []
          },
          "execution_count": 5
        }
      ]
    },
    {
      "cell_type": "code",
      "metadata": {
        "colab": {
          "base_uri": "https://localhost:8080/"
        },
        "id": "kEWebFGD1_8P",
        "outputId": "71f66a5a-55db-4290-afd0-822306b4fb3c"
      },
      "source": [
        "# один элемент типа float => все элементы типа float\n",
        "np.array([2.0,4,6])"
      ],
      "execution_count": 6,
      "outputs": [
        {
          "output_type": "execute_result",
          "data": {
            "text/plain": [
              "array([2., 4., 6.])"
            ]
          },
          "metadata": {
            "tags": []
          },
          "execution_count": 6
        }
      ]
    },
    {
      "cell_type": "code",
      "metadata": {
        "colab": {
          "base_uri": "https://localhost:8080/"
        },
        "id": "eWjxmn2q1_8X",
        "outputId": "a6debdc9-1152-4c95-dee5-f7b3dc73c7ce"
      },
      "source": [
        "# тот же результат, если задать тип float\n",
        "np.array([2,4,6], dtype='float')"
      ],
      "execution_count": 7,
      "outputs": [
        {
          "output_type": "execute_result",
          "data": {
            "text/plain": [
              "array([2., 4., 6.])"
            ]
          },
          "metadata": {
            "tags": []
          },
          "execution_count": 7
        }
      ]
    },
    {
      "cell_type": "code",
      "metadata": {
        "colab": {
          "base_uri": "https://localhost:8080/"
        },
        "id": "qliQxgJb1_8g",
        "outputId": "0ed05b54-087c-452d-c15a-c4fa9285a3a5"
      },
      "source": [
        "# зададим значения на интервале\n",
        "np.array([x for x in range(20) if x % 2 == 0])"
      ],
      "execution_count": 8,
      "outputs": [
        {
          "output_type": "execute_result",
          "data": {
            "text/plain": [
              "array([ 0,  2,  4,  6,  8, 10, 12, 14, 16, 18])"
            ]
          },
          "metadata": {
            "tags": []
          },
          "execution_count": 8
        }
      ]
    },
    {
      "cell_type": "code",
      "metadata": {
        "colab": {
          "base_uri": "https://localhost:8080/"
        },
        "id": "0Ubj49gT1_8j",
        "outputId": "06c5d451-7ef0-4c44-e88b-170362c20a4e"
      },
      "source": [
        "# тот же результат\n",
        "np.arange(0,20,2)"
      ],
      "execution_count": 9,
      "outputs": [
        {
          "output_type": "execute_result",
          "data": {
            "text/plain": [
              "array([ 0,  2,  4,  6,  8, 10, 12, 14, 16, 18])"
            ]
          },
          "metadata": {
            "tags": []
          },
          "execution_count": 9
        }
      ]
    },
    {
      "cell_type": "code",
      "metadata": {
        "colab": {
          "base_uri": "https://localhost:8080/"
        },
        "id": "qGBMlpOu1_8x",
        "outputId": "dd828500-e9d9-4ed2-c52d-49a52d7e8632"
      },
      "source": [
        "# случайные элементы типа float в интервале [0, 1)\n",
        "np.random.random(5)"
      ],
      "execution_count": 12,
      "outputs": [
        {
          "output_type": "execute_result",
          "data": {
            "text/plain": [
              "array([0.4306507 , 0.28628673, 0.58848751, 0.49845334, 0.09724458])"
            ]
          },
          "metadata": {
            "tags": []
          },
          "execution_count": 12
        }
      ]
    },
    {
      "cell_type": "code",
      "metadata": {
        "colab": {
          "base_uri": "https://localhost:8080/"
        },
        "id": "Llp8ipYZ1_8y",
        "outputId": "cd0f04c8-690b-4f79-9df5-c57f84bd35d1"
      },
      "source": [
        "# случайные целые числа\n",
        "np.random.randint(3, 8, size=10)"
      ],
      "execution_count": 13,
      "outputs": [
        {
          "output_type": "execute_result",
          "data": {
            "text/plain": [
              "array([3, 4, 5, 5, 3, 3, 5, 4, 3, 7])"
            ]
          },
          "metadata": {
            "tags": []
          },
          "execution_count": 13
        }
      ]
    },
    {
      "cell_type": "markdown",
      "metadata": {
        "id": "LPylswwi1_80"
      },
      "source": [
        "#### Индексирование вектора"
      ]
    },
    {
      "cell_type": "code",
      "metadata": {
        "id": "EQNr107L1_83"
      },
      "source": [
        "x = np.array([20,40,60,80,100])"
      ],
      "execution_count": 14,
      "outputs": []
    },
    {
      "cell_type": "code",
      "metadata": {
        "colab": {
          "base_uri": "https://localhost:8080/"
        },
        "id": "0e30NeOk1_8_",
        "outputId": "86a756a7-ceea-47f0-d888-557f00b7984a"
      },
      "source": [
        "x[0]"
      ],
      "execution_count": 15,
      "outputs": [
        {
          "output_type": "execute_result",
          "data": {
            "text/plain": [
              "20"
            ]
          },
          "metadata": {
            "tags": []
          },
          "execution_count": 15
        }
      ]
    },
    {
      "cell_type": "code",
      "metadata": {
        "colab": {
          "base_uri": "https://localhost:8080/"
        },
        "id": "SMLP-MA51_9B",
        "outputId": "461a4d5f-97fb-47a3-df42-5fbd97f71526"
      },
      "source": [
        "# срез\n",
        "x[0:2]"
      ],
      "execution_count": 16,
      "outputs": [
        {
          "output_type": "execute_result",
          "data": {
            "text/plain": [
              "array([20, 40])"
            ]
          },
          "metadata": {
            "tags": []
          },
          "execution_count": 16
        }
      ]
    },
    {
      "cell_type": "code",
      "metadata": {
        "colab": {
          "base_uri": "https://localhost:8080/"
        },
        "id": "TL7zJzvT1_9T",
        "outputId": "cbd9456e-283d-4b52-9c4d-cc9be5ab104e"
      },
      "source": [
        "# последнее значение\n",
        "x[-1]"
      ],
      "execution_count": 19,
      "outputs": [
        {
          "output_type": "execute_result",
          "data": {
            "text/plain": [
              "100"
            ]
          },
          "metadata": {
            "tags": []
          },
          "execution_count": 19
        }
      ]
    },
    {
      "cell_type": "code",
      "metadata": {
        "colab": {
          "base_uri": "https://localhost:8080/"
        },
        "id": "2eLlIXWt1_9V",
        "outputId": "05796e34-8e0c-4225-e1dc-2ba45dba6f11"
      },
      "source": [
        "# последнее значение как массив\n",
        "x[[-1]]"
      ],
      "execution_count": 20,
      "outputs": [
        {
          "output_type": "execute_result",
          "data": {
            "text/plain": [
              "array([100])"
            ]
          },
          "metadata": {
            "tags": []
          },
          "execution_count": 20
        }
      ]
    },
    {
      "cell_type": "code",
      "metadata": {
        "colab": {
          "base_uri": "https://localhost:8080/"
        },
        "id": "_tfr5UNM1_9a",
        "outputId": "6690f39b-8480-4646-d82f-810d1f84b922"
      },
      "source": [
        "# последние три значения\n",
        "x[-3:]"
      ],
      "execution_count": 21,
      "outputs": [
        {
          "output_type": "execute_result",
          "data": {
            "text/plain": [
              "array([ 60,  80, 100])"
            ]
          },
          "metadata": {
            "tags": []
          },
          "execution_count": 21
        }
      ]
    },
    {
      "cell_type": "code",
      "metadata": {
        "colab": {
          "base_uri": "https://localhost:8080/"
        },
        "id": "nWXOifaM1_9a",
        "outputId": "cb44f9a5-7d47-4124-c718-48f9cda82c98"
      },
      "source": [
        "# выбираем по индексам\n",
        "x[[0,2,4]]"
      ],
      "execution_count": 22,
      "outputs": [
        {
          "output_type": "execute_result",
          "data": {
            "text/plain": [
              "array([ 20,  60, 100])"
            ]
          },
          "metadata": {
            "tags": []
          },
          "execution_count": 22
        }
      ]
    },
    {
      "cell_type": "markdown",
      "metadata": {
        "id": "vqXvdx9x1_9b"
      },
      "source": [
        "#### Назначение вектора"
      ]
    },
    {
      "cell_type": "code",
      "metadata": {
        "id": "zYQ70VER1_9d"
      },
      "source": [
        "#x2 = x # что будет, если попробовать так?\n",
        "x2 = x.copy()"
      ],
      "execution_count": 39,
      "outputs": []
    },
    {
      "cell_type": "code",
      "metadata": {
        "id": "RyD0KzB-1_9d"
      },
      "source": [
        "x2[0] = 10"
      ],
      "execution_count": 40,
      "outputs": []
    },
    {
      "cell_type": "code",
      "metadata": {
        "colab": {
          "base_uri": "https://localhost:8080/"
        },
        "id": "KCSOaO_T1_9e",
        "outputId": "699eb858-9a4a-40ae-ca1b-38bd1db11dce"
      },
      "source": [
        "x2"
      ],
      "execution_count": 41,
      "outputs": [
        {
          "output_type": "execute_result",
          "data": {
            "text/plain": [
              "array([ 10,  40,  60,  80, 100])"
            ]
          },
          "metadata": {
            "tags": []
          },
          "execution_count": 41
        }
      ]
    },
    {
      "cell_type": "code",
      "metadata": {
        "id": "JGJ3dd8A1_9j"
      },
      "source": [
        "x2[[1,2]] = 10"
      ],
      "execution_count": 42,
      "outputs": []
    },
    {
      "cell_type": "code",
      "metadata": {
        "colab": {
          "base_uri": "https://localhost:8080/"
        },
        "id": "Pcxoy-bx1_9k",
        "outputId": "020e64d3-d6f1-49fe-d743-66a6c08f583c"
      },
      "source": [
        "x2"
      ],
      "execution_count": 43,
      "outputs": [
        {
          "output_type": "execute_result",
          "data": {
            "text/plain": [
              "array([ 10,  10,  10,  80, 100])"
            ]
          },
          "metadata": {
            "tags": []
          },
          "execution_count": 43
        }
      ]
    },
    {
      "cell_type": "code",
      "metadata": {
        "colab": {
          "base_uri": "https://localhost:8080/"
        },
        "id": "_18NKi_G1_9m",
        "outputId": "66e5bf23-3591-4e56-b682-798f303042c6"
      },
      "source": [
        "x2[[3,4]] = [0, 1]\n",
        "\n",
        "x2"
      ],
      "execution_count": 44,
      "outputs": [
        {
          "output_type": "execute_result",
          "data": {
            "text/plain": [
              "array([10, 10, 10,  0,  1])"
            ]
          },
          "metadata": {
            "tags": []
          },
          "execution_count": 44
        }
      ]
    },
    {
      "cell_type": "code",
      "metadata": {
        "colab": {
          "base_uri": "https://localhost:8080/"
        },
        "id": "BM0RiXcP1_9n",
        "outputId": "9bb21b1d-a736-4848-a0c3-cd7bace49cd7"
      },
      "source": [
        "# проверим, поменялся ли изначальный вектор\n",
        "x"
      ],
      "execution_count": 45,
      "outputs": [
        {
          "output_type": "execute_result",
          "data": {
            "text/plain": [
              "array([ 20,  40,  60,  80, 100])"
            ]
          },
          "metadata": {
            "tags": []
          },
          "execution_count": 45
        }
      ]
    },
    {
      "cell_type": "markdown",
      "metadata": {
        "id": "tkSmY4sP1_9o"
      },
      "source": [
        "#### Операции с векторами"
      ]
    },
    {
      "cell_type": "code",
      "metadata": {
        "colab": {
          "base_uri": "https://localhost:8080/"
        },
        "id": "HoilGk3Y1_9p",
        "outputId": "d6c0f9e6-7514-4969-fc29-0fce092a408f"
      },
      "source": [
        "x.sum()"
      ],
      "execution_count": 46,
      "outputs": [
        {
          "output_type": "execute_result",
          "data": {
            "text/plain": [
              "300"
            ]
          },
          "metadata": {
            "tags": []
          },
          "execution_count": 46
        }
      ]
    },
    {
      "cell_type": "code",
      "metadata": {
        "colab": {
          "base_uri": "https://localhost:8080/"
        },
        "id": "ipmmw1cY1_9q",
        "outputId": "ce4bcff8-e82b-4756-b8c4-d6035d37c79b"
      },
      "source": [
        "x.mean()"
      ],
      "execution_count": 47,
      "outputs": [
        {
          "output_type": "execute_result",
          "data": {
            "text/plain": [
              "60.0"
            ]
          },
          "metadata": {
            "tags": []
          },
          "execution_count": 47
        }
      ]
    },
    {
      "cell_type": "code",
      "metadata": {
        "colab": {
          "base_uri": "https://localhost:8080/"
        },
        "id": "OKfAwitM1_9q",
        "outputId": "9518fcfd-e6c6-45a1-cbb0-9d8ffff46618"
      },
      "source": [
        "x.max()"
      ],
      "execution_count": 48,
      "outputs": [
        {
          "output_type": "execute_result",
          "data": {
            "text/plain": [
              "100"
            ]
          },
          "metadata": {
            "tags": []
          },
          "execution_count": 48
        }
      ]
    },
    {
      "cell_type": "code",
      "metadata": {
        "colab": {
          "base_uri": "https://localhost:8080/"
        },
        "id": "zcwdUsTn1_9s",
        "outputId": "29e0ad26-0726-4666-e0af-4ebab432e18e"
      },
      "source": [
        "x.argmax()"
      ],
      "execution_count": 49,
      "outputs": [
        {
          "output_type": "execute_result",
          "data": {
            "text/plain": [
              "4"
            ]
          },
          "metadata": {
            "tags": []
          },
          "execution_count": 49
        }
      ]
    },
    {
      "cell_type": "code",
      "metadata": {
        "colab": {
          "base_uri": "https://localhost:8080/"
        },
        "id": "oBpSszle1_9t",
        "outputId": "381c8045-3ef2-4477-eb60-d5945385f0ad"
      },
      "source": [
        "np.log(x)"
      ],
      "execution_count": 50,
      "outputs": [
        {
          "output_type": "execute_result",
          "data": {
            "text/plain": [
              "array([2.99573227, 3.68887945, 4.09434456, 4.38202663, 4.60517019])"
            ]
          },
          "metadata": {
            "tags": []
          },
          "execution_count": 50
        }
      ]
    },
    {
      "cell_type": "code",
      "metadata": {
        "colab": {
          "base_uri": "https://localhost:8080/"
        },
        "id": "kjivUEqq1_9u",
        "outputId": "63c98b35-a5cd-415d-bf38-bc94b47971b1"
      },
      "source": [
        "np.exp(x)"
      ],
      "execution_count": 51,
      "outputs": [
        {
          "output_type": "execute_result",
          "data": {
            "text/plain": [
              "array([4.85165195e+08, 2.35385267e+17, 1.14200739e+26, 5.54062238e+34,\n",
              "       2.68811714e+43])"
            ]
          },
          "metadata": {
            "tags": []
          },
          "execution_count": 51
        }
      ]
    },
    {
      "cell_type": "code",
      "metadata": {
        "colab": {
          "base_uri": "https://localhost:8080/"
        },
        "id": "mc4ieYp61_9w",
        "outputId": "e02c110a-06c3-4ecd-b7e2-55291eaff9a8"
      },
      "source": [
        "x + x  # можно попробовать с *, -, / и т.п."
      ],
      "execution_count": 52,
      "outputs": [
        {
          "output_type": "execute_result",
          "data": {
            "text/plain": [
              "array([ 40,  80, 120, 160, 200])"
            ]
          },
          "metadata": {
            "tags": []
          },
          "execution_count": 52
        }
      ]
    },
    {
      "cell_type": "code",
      "metadata": {
        "colab": {
          "base_uri": "https://localhost:8080/"
        },
        "id": "VF3fNmi41_9x",
        "outputId": "ba256b4c-e15f-4d5c-d181-7cb081abf0c1"
      },
      "source": [
        "x + 1"
      ],
      "execution_count": 53,
      "outputs": [
        {
          "output_type": "execute_result",
          "data": {
            "text/plain": [
              "array([ 21,  41,  61,  81, 101])"
            ]
          },
          "metadata": {
            "tags": []
          },
          "execution_count": 53
        }
      ]
    },
    {
      "cell_type": "markdown",
      "metadata": {
        "id": "qqBWyaj61_9y"
      },
      "source": [
        "#### Сравнение с питоновскими списками\n",
        "\n",
        "Векторизация математических выражений очень выигрышна. Давайте проверим! Применим np.log к каждому элементу списка с 10 млн. значений, проведём ту же операцию с вектором.\n"
      ]
    },
    {
      "cell_type": "code",
      "metadata": {
        "id": "cH7OLCSE1_90"
      },
      "source": [
        "def listlog(vals):\n",
        "    return [np.log(y) for y in vals]"
      ],
      "execution_count": 57,
      "outputs": []
    },
    {
      "cell_type": "code",
      "metadata": {
        "colab": {
          "base_uri": "https://localhost:8080/"
        },
        "id": "E7SYpE1O1_91",
        "outputId": "0fdaf4a8-23db-4224-ae7a-494f86a29bbf"
      },
      "source": [
        "# зададим случайный вектор\n",
        "samp = np.random.random_sample(int(1e7))+1\n",
        "samp"
      ],
      "execution_count": 54,
      "outputs": [
        {
          "output_type": "execute_result",
          "data": {
            "text/plain": [
              "array([1.72186413, 1.30581757, 1.55428503, ..., 1.91848397, 1.74819944,\n",
              "       1.58359143])"
            ]
          },
          "metadata": {
            "tags": []
          },
          "execution_count": 54
        }
      ]
    },
    {
      "cell_type": "code",
      "metadata": {
        "colab": {
          "base_uri": "https://localhost:8080/"
        },
        "id": "wvHXqSxU1_92",
        "outputId": "c3ed4de9-6e2b-4763-93f1-be0de65d37ff"
      },
      "source": [
        "%time _ = np.log(samp)"
      ],
      "execution_count": 55,
      "outputs": [
        {
          "output_type": "stream",
          "text": [
            "CPU times: user 308 ms, sys: 11.6 ms, total: 320 ms\n",
            "Wall time: 321 ms\n"
          ],
          "name": "stdout"
        }
      ]
    },
    {
      "cell_type": "code",
      "metadata": {
        "colab": {
          "base_uri": "https://localhost:8080/"
        },
        "id": "-2AK2F3m1_95",
        "outputId": "45a41214-022a-4815-f892-496d1d267093"
      },
      "source": [
        "%time _ = listlog(samp)"
      ],
      "execution_count": 58,
      "outputs": [
        {
          "output_type": "stream",
          "text": [
            "CPU times: user 21.2 s, sys: 325 ms, total: 21.5 s\n",
            "Wall time: 21.6 s\n"
          ],
          "name": "stdout"
        }
      ]
    },
    {
      "cell_type": "markdown",
      "metadata": {
        "id": "diGIfsxC1_96"
      },
      "source": [
        "### Матрицы\n",
        "\n",
        "Используются при машинном обучении\n",
        "\n",
        "#### Создание матрицы"
      ]
    },
    {
      "cell_type": "code",
      "metadata": {
        "colab": {
          "base_uri": "https://localhost:8080/"
        },
        "id": "yg-Pp-Nw1_97",
        "outputId": "975e2ca6-8a4d-4d70-c934-6aa7e4201911"
      },
      "source": [
        "np.array([[1,2,3], [4,5,6]])"
      ],
      "execution_count": 59,
      "outputs": [
        {
          "output_type": "execute_result",
          "data": {
            "text/plain": [
              "array([[1, 2, 3],\n",
              "       [4, 5, 6]])"
            ]
          },
          "metadata": {
            "tags": []
          },
          "execution_count": 59
        }
      ]
    },
    {
      "cell_type": "code",
      "metadata": {
        "colab": {
          "base_uri": "https://localhost:8080/"
        },
        "id": "3asn6QvA1_99",
        "outputId": "5b6b8a6d-5215-417e-f8a0-8f40223e588e"
      },
      "source": [
        "np.array([[1,2,3], [4,5,6]], dtype='float')"
      ],
      "execution_count": 60,
      "outputs": [
        {
          "output_type": "execute_result",
          "data": {
            "text/plain": [
              "array([[1., 2., 3.],\n",
              "       [4., 5., 6.]])"
            ]
          },
          "metadata": {
            "tags": []
          },
          "execution_count": 60
        }
      ]
    },
    {
      "cell_type": "code",
      "metadata": {
        "colab": {
          "base_uri": "https://localhost:8080/"
        },
        "id": "rXw68CEu1_9-",
        "outputId": "c8e671fd-bf2a-4b24-ba4a-52bddafff50c"
      },
      "source": [
        "np.zeros((5,6))"
      ],
      "execution_count": 62,
      "outputs": [
        {
          "output_type": "execute_result",
          "data": {
            "text/plain": [
              "array([[0., 0., 0., 0., 0., 0.],\n",
              "       [0., 0., 0., 0., 0., 0.],\n",
              "       [0., 0., 0., 0., 0., 0.],\n",
              "       [0., 0., 0., 0., 0., 0.],\n",
              "       [0., 0., 0., 0., 0., 0.]])"
            ]
          },
          "metadata": {
            "tags": []
          },
          "execution_count": 62
        }
      ]
    },
    {
      "cell_type": "code",
      "metadata": {
        "colab": {
          "base_uri": "https://localhost:8080/"
        },
        "id": "UZXH4cSq1_-A",
        "outputId": "09c732f6-21f5-4e41-bdfc-9e5b9716173d"
      },
      "source": [
        "np.ones((5,6))"
      ],
      "execution_count": 63,
      "outputs": [
        {
          "output_type": "execute_result",
          "data": {
            "text/plain": [
              "array([[1., 1., 1., 1., 1., 1.],\n",
              "       [1., 1., 1., 1., 1., 1.],\n",
              "       [1., 1., 1., 1., 1., 1.],\n",
              "       [1., 1., 1., 1., 1., 1.],\n",
              "       [1., 1., 1., 1., 1., 1.]])"
            ]
          },
          "metadata": {
            "tags": []
          },
          "execution_count": 63
        }
      ]
    },
    {
      "cell_type": "code",
      "metadata": {
        "colab": {
          "base_uri": "https://localhost:8080/"
        },
        "id": "zN75uE3i1_-B",
        "outputId": "12e4739d-8c50-403c-c13c-df2b87f0ac49"
      },
      "source": [
        "np.identity(5)"
      ],
      "execution_count": 64,
      "outputs": [
        {
          "output_type": "execute_result",
          "data": {
            "text/plain": [
              "array([[1., 0., 0., 0., 0.],\n",
              "       [0., 1., 0., 0., 0.],\n",
              "       [0., 0., 1., 0., 0.],\n",
              "       [0., 0., 0., 1., 0.],\n",
              "       [0., 0., 0., 0., 1.]])"
            ]
          },
          "metadata": {
            "tags": []
          },
          "execution_count": 64
        }
      ]
    },
    {
      "cell_type": "code",
      "metadata": {
        "colab": {
          "base_uri": "https://localhost:8080/"
        },
        "id": "mud2yPQJ1_-J",
        "outputId": "2aef16d1-516d-48de-bc5c-99ddae7ee4d1"
      },
      "source": [
        "np.diag([1,2,3,4,5])"
      ],
      "execution_count": 65,
      "outputs": [
        {
          "output_type": "execute_result",
          "data": {
            "text/plain": [
              "array([[1, 0, 0, 0, 0],\n",
              "       [0, 2, 0, 0, 0],\n",
              "       [0, 0, 3, 0, 0],\n",
              "       [0, 0, 0, 4, 0],\n",
              "       [0, 0, 0, 0, 5]])"
            ]
          },
          "metadata": {
            "tags": []
          },
          "execution_count": 65
        }
      ]
    },
    {
      "cell_type": "markdown",
      "metadata": {
        "id": "mLdlF3p71_-K"
      },
      "source": [
        "#### Индексирование матрицы"
      ]
    },
    {
      "cell_type": "code",
      "metadata": {
        "colab": {
          "base_uri": "https://localhost:8080/"
        },
        "id": "SY2HJ5hz1_-M",
        "outputId": "a5cd5109-179f-4a1f-e529-76c1e738c667"
      },
      "source": [
        "X = np.array([[1,2,3], [4,5,6]])\n",
        "X"
      ],
      "execution_count": 67,
      "outputs": [
        {
          "output_type": "execute_result",
          "data": {
            "text/plain": [
              "array([[1, 2, 3],\n",
              "       [4, 5, 6]])"
            ]
          },
          "metadata": {
            "tags": []
          },
          "execution_count": 67
        }
      ]
    },
    {
      "cell_type": "code",
      "metadata": {
        "colab": {
          "base_uri": "https://localhost:8080/"
        },
        "id": "PdBa69vA1_-M",
        "outputId": "0523511e-ef44-42a4-c772-525a0bb97c0e"
      },
      "source": [
        "X[0]"
      ],
      "execution_count": 68,
      "outputs": [
        {
          "output_type": "execute_result",
          "data": {
            "text/plain": [
              "array([1, 2, 3])"
            ]
          },
          "metadata": {
            "tags": []
          },
          "execution_count": 68
        }
      ]
    },
    {
      "cell_type": "code",
      "metadata": {
        "colab": {
          "base_uri": "https://localhost:8080/"
        },
        "id": "dogl59Vx1_-O",
        "outputId": "d7d33881-7fe3-4705-f223-0fde65ae499b"
      },
      "source": [
        "X[0,0]"
      ],
      "execution_count": 69,
      "outputs": [
        {
          "output_type": "execute_result",
          "data": {
            "text/plain": [
              "1"
            ]
          },
          "metadata": {
            "tags": []
          },
          "execution_count": 69
        }
      ]
    },
    {
      "cell_type": "code",
      "metadata": {
        "colab": {
          "base_uri": "https://localhost:8080/"
        },
        "id": "SkfzM5Gx1_-O",
        "outputId": "30d722ad-54be-4765-d806-ca83194bcee7"
      },
      "source": [
        "# получить строку\n",
        "X[0, : ]"
      ],
      "execution_count": 70,
      "outputs": [
        {
          "output_type": "execute_result",
          "data": {
            "text/plain": [
              "array([1, 2, 3])"
            ]
          },
          "metadata": {
            "tags": []
          },
          "execution_count": 70
        }
      ]
    },
    {
      "cell_type": "code",
      "metadata": {
        "colab": {
          "base_uri": "https://localhost:8080/"
        },
        "id": "rVYjZDWQ1_-Q",
        "outputId": "c9094f02-1c26-465c-ebbf-9cba8e15b72f"
      },
      "source": [
        "# получить столбец\n",
        "X[ : , 0]"
      ],
      "execution_count": 71,
      "outputs": [
        {
          "output_type": "execute_result",
          "data": {
            "text/plain": [
              "array([1, 4])"
            ]
          },
          "metadata": {
            "tags": []
          },
          "execution_count": 71
        }
      ]
    },
    {
      "cell_type": "code",
      "metadata": {
        "colab": {
          "base_uri": "https://localhost:8080/"
        },
        "id": "Yg_osZ221_-Q",
        "outputId": "b918d030-7d19-4dfb-bb7b-494366428dc7"
      },
      "source": [
        "# получить несколько столбцов\n",
        "X[ : , [0,2]]"
      ],
      "execution_count": 72,
      "outputs": [
        {
          "output_type": "execute_result",
          "data": {
            "text/plain": [
              "array([[1, 3],\n",
              "       [4, 6]])"
            ]
          },
          "metadata": {
            "tags": []
          },
          "execution_count": 72
        }
      ]
    },
    {
      "cell_type": "markdown",
      "metadata": {
        "id": "WW871JJ81_-R"
      },
      "source": [
        "#### Назначение матрицы"
      ]
    },
    {
      "cell_type": "code",
      "metadata": {
        "colab": {
          "base_uri": "https://localhost:8080/"
        },
        "id": "JiB4kfgm1_-S",
        "outputId": "ea4a621a-3350-42a8-c29c-5786607b8242"
      },
      "source": [
        "# X2 = X # а если попробовать так?\n",
        "X2 = X.copy()\n",
        "X2"
      ],
      "execution_count": 73,
      "outputs": [
        {
          "output_type": "execute_result",
          "data": {
            "text/plain": [
              "array([[1, 2, 3],\n",
              "       [4, 5, 6]])"
            ]
          },
          "metadata": {
            "tags": []
          },
          "execution_count": 73
        }
      ]
    },
    {
      "cell_type": "code",
      "metadata": {
        "colab": {
          "base_uri": "https://localhost:8080/"
        },
        "id": "hzi9ZmfC1_-U",
        "outputId": "54c3c583-0d75-4372-b403-574ea7fb065e"
      },
      "source": [
        "X2[0,0] = 20\n",
        "\n",
        "X2\n"
      ],
      "execution_count": 74,
      "outputs": [
        {
          "output_type": "execute_result",
          "data": {
            "text/plain": [
              "array([[20,  2,  3],\n",
              "       [ 4,  5,  6]])"
            ]
          },
          "metadata": {
            "tags": []
          },
          "execution_count": 74
        }
      ]
    },
    {
      "cell_type": "code",
      "metadata": {
        "colab": {
          "base_uri": "https://localhost:8080/"
        },
        "id": "vu_Kfp6t1_-V",
        "outputId": "5a7df86b-4ac4-4041-a2d6-0d6865549149"
      },
      "source": [
        "X2[0] = 3\n",
        "\n",
        "X2\n"
      ],
      "execution_count": 75,
      "outputs": [
        {
          "output_type": "execute_result",
          "data": {
            "text/plain": [
              "array([[3, 3, 3],\n",
              "       [4, 5, 6]])"
            ]
          },
          "metadata": {
            "tags": []
          },
          "execution_count": 75
        }
      ]
    },
    {
      "cell_type": "code",
      "metadata": {
        "colab": {
          "base_uri": "https://localhost:8080/"
        },
        "id": "NtXKPQTH1_-W",
        "outputId": "0739d182-4ce0-4192-f003-0e59a87c533f"
      },
      "source": [
        "X2[: , -1] = [5, 6]\n",
        "\n",
        "X2"
      ],
      "execution_count": 76,
      "outputs": [
        {
          "output_type": "execute_result",
          "data": {
            "text/plain": [
              "array([[3, 3, 5],\n",
              "       [4, 5, 6]])"
            ]
          },
          "metadata": {
            "tags": []
          },
          "execution_count": 76
        }
      ]
    },
    {
      "cell_type": "code",
      "metadata": {
        "colab": {
          "base_uri": "https://localhost:8080/"
        },
        "id": "xU-3ENBc1_-Y",
        "outputId": "c9ba9a7a-f4d2-4d6a-8fa2-58798bdbea15"
      },
      "source": [
        "# проверим, изменилась ли изначальная матрица\n",
        "X"
      ],
      "execution_count": 77,
      "outputs": [
        {
          "output_type": "execute_result",
          "data": {
            "text/plain": [
              "array([[1, 2, 3],\n",
              "       [4, 5, 6]])"
            ]
          },
          "metadata": {
            "tags": []
          },
          "execution_count": 77
        }
      ]
    },
    {
      "cell_type": "markdown",
      "metadata": {
        "id": "l0N8wFeM1_-Y"
      },
      "source": [
        "#### Изменение размеров"
      ]
    },
    {
      "cell_type": "code",
      "metadata": {
        "colab": {
          "base_uri": "https://localhost:8080/"
        },
        "id": "EWErhfK31_-Z",
        "outputId": "a0a6237f-a7ff-4461-8f2a-d446df05565f"
      },
      "source": [
        "z = np.arange(1, 7)\n",
        "\n",
        "z\n"
      ],
      "execution_count": 78,
      "outputs": [
        {
          "output_type": "execute_result",
          "data": {
            "text/plain": [
              "array([1, 2, 3, 4, 5, 6])"
            ]
          },
          "metadata": {
            "tags": []
          },
          "execution_count": 78
        }
      ]
    },
    {
      "cell_type": "code",
      "metadata": {
        "colab": {
          "base_uri": "https://localhost:8080/"
        },
        "id": "fwoafwMt1_-a",
        "outputId": "ccbe3d15-ba84-4ffe-d237-04353637efb0"
      },
      "source": [
        "z.shape\n"
      ],
      "execution_count": 79,
      "outputs": [
        {
          "output_type": "execute_result",
          "data": {
            "text/plain": [
              "(6,)"
            ]
          },
          "metadata": {
            "tags": []
          },
          "execution_count": 79
        }
      ]
    },
    {
      "cell_type": "code",
      "metadata": {
        "colab": {
          "base_uri": "https://localhost:8080/"
        },
        "id": "JMXFgHP_1_-b",
        "outputId": "3738749a-8d89-4a43-fee1-e04f1f363a28"
      },
      "source": [
        "Z = z.reshape(2,3)\n",
        "\n",
        "Z"
      ],
      "execution_count": 80,
      "outputs": [
        {
          "output_type": "execute_result",
          "data": {
            "text/plain": [
              "array([[1, 2, 3],\n",
              "       [4, 5, 6]])"
            ]
          },
          "metadata": {
            "tags": []
          },
          "execution_count": 80
        }
      ]
    },
    {
      "cell_type": "code",
      "metadata": {
        "colab": {
          "base_uri": "https://localhost:8080/"
        },
        "id": "Sgo9-elc1_-d",
        "outputId": "922cf48e-2171-4e5d-8861-908200462961"
      },
      "source": [
        "Z.shape\n"
      ],
      "execution_count": 81,
      "outputs": [
        {
          "output_type": "execute_result",
          "data": {
            "text/plain": [
              "(2, 3)"
            ]
          },
          "metadata": {
            "tags": []
          },
          "execution_count": 81
        }
      ]
    },
    {
      "cell_type": "code",
      "metadata": {
        "colab": {
          "base_uri": "https://localhost:8080/"
        },
        "id": "PuJsQI7b1_-d",
        "outputId": "7661f1f6-a440-45d5-e9ac-3be0b8dd67d7"
      },
      "source": [
        "Z.reshape(6)\n"
      ],
      "execution_count": 82,
      "outputs": [
        {
          "output_type": "execute_result",
          "data": {
            "text/plain": [
              "array([1, 2, 3, 4, 5, 6])"
            ]
          },
          "metadata": {
            "tags": []
          },
          "execution_count": 82
        }
      ]
    },
    {
      "cell_type": "code",
      "metadata": {
        "colab": {
          "base_uri": "https://localhost:8080/"
        },
        "id": "AJvCmGAp1_-g",
        "outputId": "d814f6a2-f839-4731-c9af-2a866df0ac9e"
      },
      "source": [
        "# то же, что и выше\n",
        "Z.flatten()"
      ],
      "execution_count": 83,
      "outputs": [
        {
          "output_type": "execute_result",
          "data": {
            "text/plain": [
              "array([1, 2, 3, 4, 5, 6])"
            ]
          },
          "metadata": {
            "tags": []
          },
          "execution_count": 83
        }
      ]
    },
    {
      "cell_type": "code",
      "metadata": {
        "colab": {
          "base_uri": "https://localhost:8080/"
        },
        "id": "ooK7f8Ng1_-i",
        "outputId": "c52510f2-9d46-4afd-c33c-c312d6c076c0"
      },
      "source": [
        "# транспонирование\n",
        "Z.T"
      ],
      "execution_count": 84,
      "outputs": [
        {
          "output_type": "execute_result",
          "data": {
            "text/plain": [
              "array([[1, 4],\n",
              "       [2, 5],\n",
              "       [3, 6]])"
            ]
          },
          "metadata": {
            "tags": []
          },
          "execution_count": 84
        }
      ]
    },
    {
      "cell_type": "markdown",
      "metadata": {
        "id": "NN91oIPm1_-i"
      },
      "source": [
        "#### Арифметические операции"
      ]
    },
    {
      "cell_type": "code",
      "metadata": {
        "colab": {
          "base_uri": "https://localhost:8080/"
        },
        "id": "Cqv6Vd1q1_-j",
        "outputId": "309cb39b-9f8b-403e-f522-5685f8f30c75"
      },
      "source": [
        "A = np.array(range(1,7), dtype='float').reshape(2,3)\n",
        "\n",
        "A"
      ],
      "execution_count": 85,
      "outputs": [
        {
          "output_type": "execute_result",
          "data": {
            "text/plain": [
              "array([[1., 2., 3.],\n",
              "       [4., 5., 6.]])"
            ]
          },
          "metadata": {
            "tags": []
          },
          "execution_count": 85
        }
      ]
    },
    {
      "cell_type": "code",
      "metadata": {
        "id": "OnkxI5hy1_-j"
      },
      "source": [
        "B = np.array([1, 2, 3])\n"
      ],
      "execution_count": 87,
      "outputs": []
    },
    {
      "cell_type": "code",
      "metadata": {
        "colab": {
          "base_uri": "https://localhost:8080/"
        },
        "id": "at7uky6C1_-o",
        "outputId": "e37c3066-f464-4c3f-880a-e4f700a32a0f"
      },
      "source": [
        "# не то же самое, что A.dot(B)\n",
        "A * B\n"
      ],
      "execution_count": 88,
      "outputs": [
        {
          "output_type": "execute_result",
          "data": {
            "text/plain": [
              "array([[ 1.,  4.,  9.],\n",
              "       [ 4., 10., 18.]])"
            ]
          },
          "metadata": {
            "tags": []
          },
          "execution_count": 88
        }
      ]
    },
    {
      "cell_type": "code",
      "metadata": {
        "colab": {
          "base_uri": "https://localhost:8080/"
        },
        "id": "cMCRazAh1_-r",
        "outputId": "9a3d793e-4765-42ea-f07e-580ad951e1c4"
      },
      "source": [
        "A + B"
      ],
      "execution_count": 89,
      "outputs": [
        {
          "output_type": "execute_result",
          "data": {
            "text/plain": [
              "array([[2., 4., 6.],\n",
              "       [5., 7., 9.]])"
            ]
          },
          "metadata": {
            "tags": []
          },
          "execution_count": 89
        }
      ]
    },
    {
      "cell_type": "code",
      "metadata": {
        "colab": {
          "base_uri": "https://localhost:8080/"
        },
        "id": "nnQoM-FD1_-s",
        "outputId": "ff54faab-8ade-48c2-d213-fcdd8f5c4e03"
      },
      "source": [
        "A / B"
      ],
      "execution_count": 90,
      "outputs": [
        {
          "output_type": "execute_result",
          "data": {
            "text/plain": [
              "array([[1. , 1. , 1. ],\n",
              "       [4. , 2.5, 2. ]])"
            ]
          },
          "metadata": {
            "tags": []
          },
          "execution_count": 90
        }
      ]
    },
    {
      "cell_type": "code",
      "metadata": {
        "colab": {
          "base_uri": "https://localhost:8080/"
        },
        "id": "Jk4LhQv61_-u",
        "outputId": "b443bff4-ff83-44e3-a8a4-a462321903fd"
      },
      "source": [
        "# скалярное произведение: https://en.wikipedia.org/wiki/Dot_product\n",
        "A.dot(B)\n"
      ],
      "execution_count": 91,
      "outputs": [
        {
          "output_type": "execute_result",
          "data": {
            "text/plain": [
              "array([14., 32.])"
            ]
          },
          "metadata": {
            "tags": []
          },
          "execution_count": 91
        }
      ]
    },
    {
      "cell_type": "code",
      "metadata": {
        "colab": {
          "base_uri": "https://localhost:8080/"
        },
        "id": "xdMzNizt1_-v",
        "outputId": "6852d0d2-4873-4182-991f-6fdae27db9d2"
      },
      "source": [
        "B.dot(A.T)\n"
      ],
      "execution_count": 92,
      "outputs": [
        {
          "output_type": "execute_result",
          "data": {
            "text/plain": [
              "array([14., 32.])"
            ]
          },
          "metadata": {
            "tags": []
          },
          "execution_count": 92
        }
      ]
    },
    {
      "cell_type": "code",
      "metadata": {
        "colab": {
          "base_uri": "https://localhost:8080/"
        },
        "id": "CjVNkcxR1_-w",
        "outputId": "dd395357-a264-47d3-8f53-fc56958bccfb"
      },
      "source": [
        "A.dot(A.T)\n"
      ],
      "execution_count": 93,
      "outputs": [
        {
          "output_type": "execute_result",
          "data": {
            "text/plain": [
              "array([[14., 32.],\n",
              "       [32., 77.]])"
            ]
          },
          "metadata": {
            "tags": []
          },
          "execution_count": 93
        }
      ]
    },
    {
      "cell_type": "code",
      "metadata": {
        "colab": {
          "base_uri": "https://localhost:8080/"
        },
        "id": "Bq8bn6mR1_-x",
        "outputId": "597100b0-8beb-4ccf-8e97-97dd15fc657f"
      },
      "source": [
        "# outer product: https://en.wikipedia.org/wiki/Outer_product\n",
        "# умножаем каждый элемент первого вектора на каждый элемент второго\n",
        "np.outer(B, B)\n",
        "\n"
      ],
      "execution_count": 94,
      "outputs": [
        {
          "output_type": "execute_result",
          "data": {
            "text/plain": [
              "array([[1, 2, 3],\n",
              "       [2, 4, 6],\n",
              "       [3, 6, 9]])"
            ]
          },
          "metadata": {
            "tags": []
          },
          "execution_count": 94
        }
      ]
    },
    {
      "cell_type": "markdown",
      "metadata": {
        "id": "ylZ8B_bM1_-1"
      },
      "source": [
        "### Применение NumPy с другими пакетами питона\n",
        "\n",
        "#### Pandas\n",
        "\n",
        "Можно превратить матрицы numpy в дейтафреймы pandas. Например, тогда можно присвоить названия строкам."
      ]
    },
    {
      "cell_type": "code",
      "metadata": {
        "id": "s9dDgF4N1_-2"
      },
      "source": [
        "import pandas as pd"
      ],
      "execution_count": 96,
      "outputs": []
    },
    {
      "cell_type": "code",
      "metadata": {
        "colab": {
          "base_uri": "https://localhost:8080/",
          "height": 206
        },
        "id": "D-Em8XL21_-3",
        "outputId": "7b2a8b41-c8a6-4c69-b6dd-4e998762777d"
      },
      "source": [
        "count_df = pd.DataFrame(\n",
        "    np.array([\n",
        "        [1,0,1,0,0,0],\n",
        "        [0,1,0,1,0,0],\n",
        "        [1,1,1,1,0,0],\n",
        "        [0,0,0,0,1,1],\n",
        "        [0,0,0,0,0,1]], dtype='float64'),\n",
        "    index=['отвратительный', 'жуткий', 'классный', 'тупой', 'ужасный'])\n",
        "count_df"
      ],
      "execution_count": 97,
      "outputs": [
        {
          "output_type": "execute_result",
          "data": {
            "text/html": [
              "<div>\n",
              "<style scoped>\n",
              "    .dataframe tbody tr th:only-of-type {\n",
              "        vertical-align: middle;\n",
              "    }\n",
              "\n",
              "    .dataframe tbody tr th {\n",
              "        vertical-align: top;\n",
              "    }\n",
              "\n",
              "    .dataframe thead th {\n",
              "        text-align: right;\n",
              "    }\n",
              "</style>\n",
              "<table border=\"1\" class=\"dataframe\">\n",
              "  <thead>\n",
              "    <tr style=\"text-align: right;\">\n",
              "      <th></th>\n",
              "      <th>0</th>\n",
              "      <th>1</th>\n",
              "      <th>2</th>\n",
              "      <th>3</th>\n",
              "      <th>4</th>\n",
              "      <th>5</th>\n",
              "    </tr>\n",
              "  </thead>\n",
              "  <tbody>\n",
              "    <tr>\n",
              "      <th>отвратительный</th>\n",
              "      <td>1.0</td>\n",
              "      <td>0.0</td>\n",
              "      <td>1.0</td>\n",
              "      <td>0.0</td>\n",
              "      <td>0.0</td>\n",
              "      <td>0.0</td>\n",
              "    </tr>\n",
              "    <tr>\n",
              "      <th>жуткий</th>\n",
              "      <td>0.0</td>\n",
              "      <td>1.0</td>\n",
              "      <td>0.0</td>\n",
              "      <td>1.0</td>\n",
              "      <td>0.0</td>\n",
              "      <td>0.0</td>\n",
              "    </tr>\n",
              "    <tr>\n",
              "      <th>классный</th>\n",
              "      <td>1.0</td>\n",
              "      <td>1.0</td>\n",
              "      <td>1.0</td>\n",
              "      <td>1.0</td>\n",
              "      <td>0.0</td>\n",
              "      <td>0.0</td>\n",
              "    </tr>\n",
              "    <tr>\n",
              "      <th>тупой</th>\n",
              "      <td>0.0</td>\n",
              "      <td>0.0</td>\n",
              "      <td>0.0</td>\n",
              "      <td>0.0</td>\n",
              "      <td>1.0</td>\n",
              "      <td>1.0</td>\n",
              "    </tr>\n",
              "    <tr>\n",
              "      <th>ужасный</th>\n",
              "      <td>0.0</td>\n",
              "      <td>0.0</td>\n",
              "      <td>0.0</td>\n",
              "      <td>0.0</td>\n",
              "      <td>0.0</td>\n",
              "      <td>1.0</td>\n",
              "    </tr>\n",
              "  </tbody>\n",
              "</table>\n",
              "</div>"
            ],
            "text/plain": [
              "                  0    1    2    3    4    5\n",
              "отвратительный  1.0  0.0  1.0  0.0  0.0  0.0\n",
              "жуткий          0.0  1.0  0.0  1.0  0.0  0.0\n",
              "классный        1.0  1.0  1.0  1.0  0.0  0.0\n",
              "тупой           0.0  0.0  0.0  0.0  1.0  1.0\n",
              "ужасный         0.0  0.0  0.0  0.0  0.0  1.0"
            ]
          },
          "metadata": {
            "tags": []
          },
          "execution_count": 97
        }
      ]
    },
    {
      "cell_type": "markdown",
      "metadata": {
        "id": "s1PImWRz1_-3"
      },
      "source": [
        "#### SciPy\n",
        "\n",
        "SciPy содержит множество операций линейной алгебры, оптимизации и т.п. Все операции могут работать с массивами NumPy.\n"
      ]
    },
    {
      "cell_type": "code",
      "metadata": {
        "id": "YEp1sUli1_-4"
      },
      "source": [
        "from scipy.spatial.distance import cosine\n",
        "from scipy.stats import pearsonr\n",
        "from scipy import linalg"
      ],
      "execution_count": 98,
      "outputs": []
    },
    {
      "cell_type": "code",
      "metadata": {
        "colab": {
          "base_uri": "https://localhost:8080/"
        },
        "id": "wnw6u2zo1_-4",
        "outputId": "8d04d3fa-e6ab-4d7a-8fa9-e2ecf9897018"
      },
      "source": [
        "# cosine distance\n",
        "a = np.random.random(10)\n",
        "b = np.random.random(10)\n",
        "cosine(a, b)"
      ],
      "execution_count": 99,
      "outputs": [
        {
          "output_type": "execute_result",
          "data": {
            "text/plain": [
              "0.44751552585724086"
            ]
          },
          "metadata": {
            "tags": []
          },
          "execution_count": 99
        }
      ]
    },
    {
      "cell_type": "code",
      "metadata": {
        "colab": {
          "base_uri": "https://localhost:8080/"
        },
        "id": "VeATpCvD1_-6",
        "outputId": "3162b8d3-1e14-4442-fca8-2d1b6f13275c"
      },
      "source": [
        "# pearson correlation (coeff, p-value)\n",
        "pearsonr(a, b)"
      ],
      "execution_count": 100,
      "outputs": [
        {
          "output_type": "execute_result",
          "data": {
            "text/plain": [
              "(-0.691402711074892, 0.026790391504730084)"
            ]
          },
          "metadata": {
            "tags": []
          },
          "execution_count": 100
        }
      ]
    },
    {
      "cell_type": "code",
      "metadata": {
        "colab": {
          "base_uri": "https://localhost:8080/"
        },
        "id": "edpfXqA01_-6",
        "outputId": "745d6288-3734-4a4a-e218-bc58c4bb30d4"
      },
      "source": [
        "# inverse of matrix\n",
        "A = np.array([[1,3,5],[2,5,1],[2,3,8]])\n",
        "linalg.inv(A)"
      ],
      "execution_count": 101,
      "outputs": [
        {
          "output_type": "execute_result",
          "data": {
            "text/plain": [
              "array([[-1.48,  0.36,  0.88],\n",
              "       [ 0.56,  0.08, -0.36],\n",
              "       [ 0.16, -0.12,  0.04]])"
            ]
          },
          "metadata": {
            "tags": []
          },
          "execution_count": 101
        }
      ]
    },
    {
      "cell_type": "markdown",
      "metadata": {
        "id": "Z7XYiA8Z1_-8"
      },
      "source": [
        "#### Matplotlib"
      ]
    },
    {
      "cell_type": "code",
      "metadata": {
        "id": "DzZx-Tmi1_-9"
      },
      "source": [
        "import matplotlib.pyplot as plt"
      ],
      "execution_count": 102,
      "outputs": []
    },
    {
      "cell_type": "code",
      "metadata": {
        "colab": {
          "base_uri": "https://localhost:8080/",
          "height": 281
        },
        "id": "9cVrfwwv1_-9",
        "outputId": "734bccc8-2af7-47f6-add1-92178f3e9d2b"
      },
      "source": [
        "a = np.sort(np.random.random(25))\n",
        "b = a**3\n",
        "c = np.log(a)\n",
        "plt.plot(a, b, label='y = x^3')\n",
        "plt.plot(a, c, label='y = log(x)')\n",
        "plt.legend()\n",
        "plt.title(\"Случайные функции\")\n",
        "plt.show()"
      ],
      "execution_count": 103,
      "outputs": [
        {
          "output_type": "display_data",
          "data": {
            "image/png": "[encoded data removed]",
            "text/plain": [
              "<Figure size 432x288 with 1 Axes>"
            ]
          },
          "metadata": {
            "tags": [],
            "needs_background": "light"
          }
        }
      ]
    }
  ]
}