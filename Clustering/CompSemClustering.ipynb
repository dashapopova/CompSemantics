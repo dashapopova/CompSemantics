{
 "cells": [
  {
   "cell_type": "code",
   "execution_count": 8,
   "metadata": {
    "collapsed": true
   },
   "outputs": [],
   "source": [
    "import numpy as np\n",
    "import matplotlib.pyplot as plt\n",
    "import scipy\n",
    "import scipy.cluster.hierarchy as hcluster"
   ]
  },
  {
   "cell_type": "markdown",
   "metadata": {},
   "source": [
    "## Подготовка данных"
   ]
  },
  {
   "cell_type": "markdown",
   "metadata": {},
   "source": [
    "Открываем файл с матрицей и смотрим, как он устроен:"
   ]
  },
  {
   "cell_type": "code",
   "execution_count": 9,
   "metadata": {
    "collapsed": true
   },
   "outputs": [],
   "source": [
    "DmFile = 'smooth_ruscorp_wa_ppmi_300_norm.dm'"
   ]
  },
  {
   "cell_type": "code",
   "execution_count": 10,
   "metadata": {
    "collapsed": false
   },
   "outputs": [
    {
     "name": "stdout",
     "output_type": "stream",
     "text": [
      "скользкий_дорога\t1.175111190052833\t-0.57511714832454974\t-0.52588550919746413\t0.01331278679499516\t-0.45138659636495615\t-0.16955272753266831\t-0.017347542187076747\t-0.098081112217256544\t0.066896038669683938\t-0.071702445262305139\t-0.31794566088461196\t-0.08390447332891865\t0.0501158346019085\t-0.12986212351160525\t0.096693477730630251\t-0.14674012869984773\t0.15961689572246623\t0.0063364035797221843\t-0.022951386343454866\t0.038142135493634474\t-0.19316977767403812\t0.032502189654112695\t-0.077810361217728802\t0.19288209186722177\t0.026139787881409814\t0.14055322394658132\t0.15984401445635776\t-0.020408885712717977\t0.23812118109571134\t0.01065209957820689\t-0.28378960138895426\t-0.062920791541307308\t0.0545885616313804\t0.054240930933179957\t-0.059248276258807506\t0.072222107071927777\t0.031273104270673348\t0.10376186904667969\t0.0024569799119113812\t-0.033020788597619768\t0.03309507848909355\t0.063850395570066831\t0.033967692491206666\t-0.0093818294865688975\t0.1561586539123061\t-0.02976439273244217\t0.027438583497674397\t-\n"
     ]
    }
   ],
   "source": [
    "with open (DmFile, 'r', encoding='utf-8') as f_input:\n",
    "    print (f_input.read(1000))"
   ]
  },
  {
   "cell_type": "markdown",
   "metadata": {},
   "source": [
    "Первый элемент каждой строки - словосочетание; далее - значения 300 измерений, разделенные табуляцией.\n",
    "Превращаем текстовый файл в нужный формат (матрицу чисел):"
   ]
  },
  {
   "cell_type": "code",
   "execution_count": 11,
   "metadata": {
    "collapsed": false
   },
   "outputs": [],
   "source": [
    "array = []\n",
    "with open (DmFile, 'r') as f_input:\n",
    "    for line in f_input:\n",
    "        line = line.strip().split('\\t')\n",
    "        vector = []\n",
    "        for item in line[1:]:\n",
    "            vector.append(float(item))\n",
    "        array.append(vector)"
   ]
  },
  {
   "cell_type": "code",
   "execution_count": 12,
   "metadata": {
    "collapsed": false
   },
   "outputs": [
    {
     "name": "stdout",
     "output_type": "stream",
     "text": [
      "(13, 300)\n"
     ]
    }
   ],
   "source": [
    "X = np.array(array[:13])\n",
    "print (X.shape)"
   ]
  },
  {
   "cell_type": "markdown",
   "metadata": {},
   "source": [
    "## Иерархическая кластеризация"
   ]
  },
  {
   "cell_type": "markdown",
   "metadata": {},
   "source": [
    "Документация: https://docs.scipy.org/doc/scipy/reference/cluster.hierarchy.html\n",
    "\n",
    "Метод linkage превращает входные данные в иерархическую структуру, которую можно визуализировать с помощью метода dendrogram.\n",
    "\n",
    "Параметры:\n",
    "\n",
    "1) входные данные (матрица чисел); <br>\n",
    "2) алгоритм \"связывания\" - объединения близких объектов в группы; <br>\n",
    "3) метод расчета расстояний между объектами (евклидово, косинусное и т.п.).\n"
   ]
  },
  {
   "cell_type": "code",
   "execution_count": 17,
   "metadata": {
    "collapsed": false
   },
   "outputs": [
    {
     "data": {
      "image/png": "[encoded data removed]",
      "text/plain": [
       "<matplotlib.figure.Figure at 0x8e36e10>"
      ]
     },
     "metadata": {},
     "output_type": "display_data"
    }
   ],
   "source": [
    "Z = hcluster.linkage(X)\n",
    "plt.figure()\n",
    "dn = hcluster.dendrogram(Z)\n",
    "plt.show()"
   ]
  },
  {
   "cell_type": "markdown",
   "metadata": {},
   "source": [
    "Метод fcluster превращает дерево в набор кластеров. Итоговый набор зависит от того, на какой ступени иерархической структуры мы остановимся (регулируется параметром t - threshold)."
   ]
  },
  {
   "cell_type": "code",
   "execution_count": 18,
   "metadata": {
    "collapsed": false
   },
   "outputs": [
    {
     "name": "stdout",
     "output_type": "stream",
     "text": [
      "Estimated number of clusters: 7\n"
     ]
    }
   ],
   "source": [
    "clusters = hcluster.fcluster(Z, 1)\n",
    "print('Estimated number of clusters: %d' % len(set(clusters)))"
   ]
  },
  {
   "cell_type": "code",
   "execution_count": 19,
   "metadata": {
    "collapsed": false
   },
   "outputs": [
    {
     "name": "stdout",
     "output_type": "stream",
     "text": [
      "Estimated number of clusters: 1\n"
     ]
    }
   ],
   "source": [
    "clusters = hcluster.fcluster(Z, 1.2)\n",
    "print('Estimated number of clusters: %d' % len(set(clusters)))"
   ]
  },
  {
   "cell_type": "code",
   "execution_count": 26,
   "metadata": {
    "collapsed": false
   },
   "outputs": [
    {
     "name": "stdout",
     "output_type": "stream",
     "text": [
      "Estimated number of clusters: 10\n"
     ]
    }
   ],
   "source": [
    "clusters = hcluster.fcluster(Z, 0.6)\n",
    "print('Estimated number of clusters: %d' % len(set(clusters)))"
   ]
  },
  {
   "cell_type": "markdown",
   "metadata": {},
   "source": [
    "Метод fclusterdata позволяет объединить два шага (построение дерева и превращение его в \"плоский\" набор кластеров) в один."
   ]
  },
  {
   "cell_type": "code",
   "execution_count": 27,
   "metadata": {
    "collapsed": false
   },
   "outputs": [
    {
     "name": "stdout",
     "output_type": "stream",
     "text": [
      "Estimated number of clusters: 7\n"
     ]
    }
   ],
   "source": [
    "clusters = hcluster.fclusterdata(X, 1)\n",
    "print('Estimated number of clusters: %d' % len(set(clusters)))"
   ]
  },
  {
   "cell_type": "markdown",
   "metadata": {},
   "source": [
    "clusters - массив чисел T, где каждое число - номер кластера для соответствующего элемента (строки) исходной матрицы, т.е. T[i] - номер кластера, приписанный i-тому элементу исходного объекта."
   ]
  },
  {
   "cell_type": "code",
   "execution_count": 23,
   "metadata": {
    "collapsed": false
   },
   "outputs": [
    {
     "name": "stdout",
     "output_type": "stream",
     "text": [
      "[2 5 3 2 7 6 1 3 2 2 2 1 4]\n"
     ]
    }
   ],
   "source": [
    "print (clusters)"
   ]
  },
  {
   "cell_type": "markdown",
   "metadata": {},
   "source": [
    "## Алгоритм К-средних (KMeans)"
   ]
  },
  {
   "cell_type": "markdown",
   "metadata": {},
   "source": [
    "Документация: https://scikit-learn.org/stable/modules/generated/sklearn.cluster.KMeans.html\n",
    "\n",
    "Параметры:\n",
    "\n",
    "1) число кластеров; <br> 2) метод выбора первых центроидов; <br> 3) количество прогонов всего алгоритма с разными стартовыми центроидами; <br> 4) максимальное число итераций в каждом прогоне и нек. др.\n",
    "\n",
    "Основные атрибуты:\n",
    "\n",
    "1) labels_ - возвращает массив из номеров кластеров, приписанных каждому элементу; <br> 2) cluster\\_centers\\_ - возвращает матрицу с координатами центроидов каждого кластера.\n",
    "\n",
    "Основные методы:\n",
    "\n",
    "1) fit - проводит кластеризацию; <br> 2) predict - предсказывает, в какой класс попадет заданный элемент."
   ]
  },
  {
   "cell_type": "code",
   "execution_count": 28,
   "metadata": {
    "collapsed": true
   },
   "outputs": [],
   "source": [
    "from sklearn.cluster import KMeans"
   ]
  },
  {
   "cell_type": "code",
   "execution_count": 29,
   "metadata": {
    "collapsed": false
   },
   "outputs": [
    {
     "data": {
      "text/plain": [
       "array([5, 2, 3, 0, 1, 4, 6, 3, 0, 0, 0, 6, 5])"
      ]
     },
     "execution_count": 29,
     "metadata": {},
     "output_type": "execute_result"
    }
   ],
   "source": [
    "kmeans = KMeans(n_clusters=7).fit(X)\n",
    "kmeans.labels_"
   ]
  },
  {
   "cell_type": "code",
   "execution_count": 30,
   "metadata": {
    "collapsed": false
   },
   "outputs": [
    {
     "data": {
      "text/plain": [
       "array([[ 1.28430696, -0.70409225, -0.60246917, ..., -0.00399411,\n",
       "        -0.02104252, -0.03043478],\n",
       "       [ 1.12885921,  0.00847085, -0.12752143, ..., -0.01678824,\n",
       "         0.00782433, -0.03639041],\n",
       "       [ 1.18068337, -0.04938528, -0.38643569, ..., -0.01838094,\n",
       "        -0.01314881, -0.01718945],\n",
       "       ..., \n",
       "       [ 1.2288421 , -0.27012   , -0.56612072, ..., -0.00579309,\n",
       "        -0.01098858, -0.02750317],\n",
       "       [ 1.20814158, -0.48667138, -0.49031226, ..., -0.00824784,\n",
       "        -0.01155794, -0.02264166],\n",
       "       [ 1.16614219, -0.08660988, -0.80894133, ..., -0.02018641,\n",
       "        -0.01399124, -0.02440558]])"
      ]
     },
     "execution_count": 30,
     "metadata": {},
     "output_type": "execute_result"
    }
   ],
   "source": [
    "kmeans.cluster_centers_"
   ]
  },
  {
   "cell_type": "code",
   "execution_count": 31,
   "metadata": {
    "collapsed": false
   },
   "outputs": [
    {
     "data": {
      "text/plain": [
       "array([3, 0, 3])"
      ]
     },
     "execution_count": 31,
     "metadata": {},
     "output_type": "execute_result"
    }
   ],
   "source": [
    "sample = array[17:20]\n",
    "kmeans.predict(sample)"
   ]
  }
 ],
 "metadata": {
  "kernelspec": {
   "display_name": "Python 3",
   "language": "python",
   "name": "python3"
  },
  "language_info": {
   "codemirror_mode": {
    "name": "ipython",
    "version": 3
   },
   "file_extension": ".py",
   "mimetype": "text/x-python",
   "name": "python",
   "nbconvert_exporter": "python",
   "pygments_lexer": "ipython3",
   "version": "3.6.0"
  }
 },
 "nbformat": 4,
 "nbformat_minor": 2
}
