{
  "nbformat": 4,
  "nbformat_minor": 0,
  "metadata": {
    "kernelspec": {
      "display_name": "Python 3",
      "language": "python",
      "name": "python3"
    },
    "language_info": {
      "codemirror_mode": {
        "name": "ipython",
        "version": 3
      },
      "file_extension": ".py",
      "mimetype": "text/x-python",
      "name": "python",
      "nbconvert_exporter": "python",
      "pygments_lexer": "ipython3",
      "version": "3.6.5"
    },
    "colab": {
      "name": "CompSem_graphs.ipynb",
      "provenance": []
    }
  },
  "cells": [
    {
      "cell_type": "markdown",
      "metadata": {
        "id": "KZH16FH8UCst"
      },
      "source": [
        "## Графы, библиотека ```networkx```\n",
        "\n",
        "Модель, которая не только описывает элементы системы, но и фиксирует связи между ними, называется **графом** или **сетью**. В терминах графов может быть описана любая система, в которой можно выделить\n",
        "\n",
        "+ элементы (в графе они называются узлами = вершинами = nodes = vertices)\n",
        "+ связи между ними (они именуются рёбрами = связями = edges = relations).\n",
        "\n",
        "Граф -- это визуализация сложного объекта. Кроме того, граф — это математический объект, в котором мы можем довольно много всего посчитать, и таким образом установить разные закономерности, доказать гипотезу. Это называется **сетевым анализом**.\n",
        "\n",
        "Для того, чтобы превращать данные (любые формализованные данные) в граф, можно использовать библиотеку `networkx`. Вот ее [документация](https://networkx.github.io/documentation/latest/index.html). Это не единственная библиотека для работы с графами в питоне ([вот полный список](https://wiki.python.org/moin/PythonGraphLibraries)), но, кажется, самая простая и удобная."
      ]
    },
    {
      "cell_type": "code",
      "metadata": {
        "id": "p3pCTcXYUCtd"
      },
      "source": [
        "import networkx as nx"
      ],
      "execution_count": 2,
      "outputs": []
    },
    {
      "cell_type": "markdown",
      "metadata": {
        "id": "wuE3TqwfUCtg"
      },
      "source": [
        "#### Создаем граф\n",
        "\n",
        "Первая ситуация: у нас есть какие-то данные, и нам нужно превратить их в граф. Тогда уместно создать сначала пустой объект графа и туда постепенно что-то добавлять."
      ]
    },
    {
      "cell_type": "code",
      "metadata": {
        "id": "TUHGoGfBUCtj"
      },
      "source": [
        "G = nx.Graph() # пустой граф\n",
        "G.add_node(1) # добавляем один узел\n",
        "G.add_nodes_from([2 ,3, 4, 5, 6]) # добавляем несколько узлов сразу\n",
        "\n",
        "G.remove_node(6) # удаляем узел номер 6\n",
        "\n",
        "# То, как мы обозначаем узлы (1, 2, 3 ...) -- это их id. Но вообще-то мы можем приклеить к ним и полноценные лейблы:\n",
        "G.add_node(1, label=\"node_1\")"
      ],
      "execution_count": 13,
      "outputs": []
    },
    {
      "cell_type": "markdown",
      "metadata": {
        "id": "fQ3PSimYUCtm"
      },
      "source": [
        "Теперь укажем, какие узлы связаны между собой рёбрами."
      ]
    },
    {
      "cell_type": "code",
      "metadata": {
        "id": "aWBGGfZDUCto"
      },
      "source": [
        "G.add_edge(1,2) # ребро между узлами 1 и 3\n",
        "G.add_edges_from([(1, 3), (1, 4), (1, 5), (4, 5), (3, 5)]) # сразу несколько рёбер\n",
        "\n",
        "G.remove_edge(4, 5) # удаляем ребро"
      ],
      "execution_count": 14,
      "outputs": []
    },
    {
      "cell_type": "code",
      "metadata": {
        "colab": {
          "base_uri": "https://localhost:8080/"
        },
        "id": "TBESGYlPUCtq",
        "outputId": "2f4c55be-a6be-4cfa-e59c-fbab40d1ade6"
      },
      "source": [
        "print('узлы', G.nodes())\n",
        "print('рёбра', G.edges())"
      ],
      "execution_count": 15,
      "outputs": [
        {
          "output_type": "stream",
          "text": [
            "узлы [1, 2, 3, 4, 5]\n",
            "рёбра [(1, 2), (1, 3), (1, 4), (1, 5), (3, 5)]\n"
          ],
          "name": "stdout"
        }
      ]
    },
    {
      "cell_type": "code",
      "metadata": {
        "colab": {
          "base_uri": "https://localhost:8080/"
        },
        "id": "l3qohYypUCtw",
        "outputId": "c6182412-d294-4215-8a2e-a573c9151d3d"
      },
      "source": [
        "# сколько есть соседей у узла 5?\n",
        "G.degree(5)"
      ],
      "execution_count": 16,
      "outputs": [
        {
          "output_type": "execute_result",
          "data": {
            "text/plain": [
              "2"
            ]
          },
          "metadata": {
            "tags": []
          },
          "execution_count": 16
        }
      ]
    },
    {
      "cell_type": "code",
      "metadata": {
        "colab": {
          "base_uri": "https://localhost:8080/"
        },
        "id": "S2dRoEx9UCty",
        "outputId": "281f1dde-d57b-4dbc-d430-3edf4ab761d2"
      },
      "source": [
        "# узнаем число соседей (в терминах теории графов -- степень узла) каждого узла\n",
        "for node in G.nodes():\n",
        "    print (node, G.degree(node))"
      ],
      "execution_count": 17,
      "outputs": [
        {
          "output_type": "stream",
          "text": [
            "1 4\n",
            "2 1\n",
            "3 2\n",
            "4 1\n",
            "5 2\n"
          ],
          "name": "stdout"
        }
      ]
    },
    {
      "cell_type": "markdown",
      "metadata": {
        "id": "IarP4c4KUCt1"
      },
      "source": [
        "Кроме того, что графы отражают связи между узлами, они могут отражать характер этой связи. В теории графов выделяются специальные взвешенные графы, у которых между узлами не просто есть ребро, но у этого ребра ещё есть вес. Взвешенным графом, например, может быть граф персонажей какой-то пьесы, в котором мы учитываем не только то, что персонажи этой пьесы находятся вместе на сцене (ребро), но и сколько раз они вступают в диалог (вес ребра)."
      ]
    },
    {
      "cell_type": "code",
      "metadata": {
        "id": "QwqG4ZbpUCt5"
      },
      "source": [
        "# вес ребра можно добавить так:\n",
        "\n",
        "G.add_edge(1, 3, weight=4)"
      ],
      "execution_count": 18,
      "outputs": []
    },
    {
      "cell_type": "markdown",
      "metadata": {
        "id": "AdzKJGEGUCt6"
      },
      "source": [
        "Отдельно выделяются направленные графы, которые отражают как наличие, так и направление связи. Например, граф переписки может отражать направление связи, кто кому писал. Или, например, можно отражать направление лексических/грамматических переходов. Такой граф задаётся как специальный тип объекта:"
      ]
    },
    {
      "cell_type": "code",
      "metadata": {
        "id": "uAv9Wgg7UCt7"
      },
      "source": [
        "dg = nx.DiGraph()\n",
        "dg.add_weighted_edges_from([(1,4,0.5), (3,1,0.75)]) # от кого -- кому и вес ребра"
      ],
      "execution_count": 9,
      "outputs": []
    },
    {
      "cell_type": "markdown",
      "metadata": {
        "id": "yq7iNff1UCt8"
      },
      "source": [
        "Итак, суммируем. Графы бывают:\n",
        "\n",
        "+ ориентированные (направленные) и неориентированные (связи-стрелочки vs обычные связи)\n",
        "+ связные и несвязные (все узлы связаны vs есть узлы, которые оторваны от основного графа).\n",
        "+ взвешенные и невзвешенные (связи имеют некоторое числовое значение или нет)\n"
      ]
    },
    {
      "cell_type": "markdown",
      "metadata": {
        "id": "mi6hanRSUCt9"
      },
      "source": [
        "#### Сохраняем и подгружаем граф\n",
        "\n",
        "Когда граф построен, его можно сохранить в каком-нибудь специальном формате.\n",
        "\n",
        "+ csv-таблица узлов/ребер\n",
        "+ gml (Graph Modelling Language) — простейший текстовый формат записи графа\n",
        "+ graphml — основанный на XML формат для записи графов\n",
        "+ gexf (Graph Exchange XML Format) — также основан на XML, позволяет описывать не только структуру и элементы графа, но и метаданные, иерархию, динамику — в общем, самый продвинутый формат\n",
        "\n",
        "Чтобы сохранить граф в виде файла в формате .gexf, достаточно вот такого кода:"
      ]
    },
    {
      "cell_type": "code",
      "metadata": {
        "id": "xiG0qUr6UCt-"
      },
      "source": [
        "nx.write_gexf(G, 'graph_file.gexf')"
      ],
      "execution_count": null,
      "outputs": []
    },
    {
      "cell_type": "markdown",
      "metadata": {
        "id": "Ff0JFfiRUCt_"
      },
      "source": [
        "Загрузить данные из этого формата можно тоже одной строчкой:"
      ]
    },
    {
      "cell_type": "code",
      "metadata": {
        "id": "HTuAaC0YUCuB"
      },
      "source": [
        "G1 = nx.read_gexf('graph_file.gexf')"
      ],
      "execution_count": null,
      "outputs": []
    },
    {
      "cell_type": "markdown",
      "metadata": {
        "id": "1wjk6NSjUCuD"
      },
      "source": [
        "#### Визуализация\n",
        "\n",
        "Визуализируем граф с помощью уже знакомого нам `matplotlib` (но есть и [другие способы визуализации](https://networkx.github.io/documentation/networkx-2.2/reference/drawing.html) графов в питоне)."
      ]
    },
    {
      "cell_type": "code",
      "metadata": {
        "colab": {
          "base_uri": "https://localhost:8080/",
          "height": 248
        },
        "id": "KIKazr8HUCuE",
        "outputId": "f8d9c951-9cb6-44d2-8d70-13d9e8c95137"
      },
      "source": [
        "import matplotlib.pyplot as plt \n",
        "\n",
        "#надо выбрать способ \"укладки\" графа: random_layout, shell_layout, spring_layout\n",
        "pos=nx.shell_layout(G)\n",
        "\n",
        "nx.draw_networkx_nodes(G, pos, node_color='red', node_size=10) \n",
        "nx.draw_networkx_edges(G, pos, edge_color='blue')\n",
        "nx.draw_networkx_labels(G, pos, font_size=20)\n",
        "plt.axis('off') \n",
        "plt.show()"
      ],
      "execution_count": 19,
      "outputs": [
        {
          "output_type": "display_data",
          "data": {
            "image/png": "[encoded data removed]",
            "text/plain": [
              "<Figure size 432x288 with 1 Axes>"
            ]
          },
          "metadata": {
            "tags": []
          }
        }
      ]
    },
    {
      "cell_type": "markdown",
      "metadata": {
        "id": "zRAxBanAUCuF"
      },
      "source": [
        "#### Сетевой анализ\n",
        "\n",
        "Что мы можем узнать про граф?"
      ]
    },
    {
      "cell_type": "code",
      "metadata": {
        "colab": {
          "base_uri": "https://localhost:8080/"
        },
        "id": "cfjJr37oUCuG",
        "outputId": "2f7849fe-0e80-4357-fffe-39159d51aed5"
      },
      "source": [
        "# Диаметр графа, самый длинный путь от одной вершины до другой\n",
        "print(nx.diameter(G))\n",
        "\n",
        "# число узлов и рёбер\n",
        "\n",
        "print(G.number_of_nodes())\n",
        "print(G.number_of_edges())\n",
        "\n",
        "# Плотность графа, отношение рёбер и узлов\n",
        "\n",
        "print(nx.density(G))\n",
        "\n",
        "# Коэффициент ассортативности (насколько вся сеть завязана на основных \"хабах\" = узлах с большим количеством связей):\n",
        "\n",
        "print(nx.degree_pearson_correlation_coefficient(G))"
      ],
      "execution_count": 21,
      "outputs": [
        {
          "output_type": "stream",
          "text": [
            "2\n",
            "5\n",
            "5\n",
            "0.5\n",
            "-0.8055555555555557\n"
          ],
          "name": "stdout"
        }
      ]
    },
    {
      "cell_type": "markdown",
      "metadata": {
        "id": "XHye17kSUCuH"
      },
      "source": [
        "+ **Диаметр** — самый длинный путь от одной вершины до другой.\n",
        "\n",
        "+ [**Связная компонента**](https://ru.wikipedia.org/wiki/%D0%9A%D0%BE%D0%BC%D0%BF%D0%BE%D0%BD%D0%B5%D0%BD%D1%82%D0%B0_%D1%81%D0%B2%D1%8F%D0%B7%D0%BD%D0%BE%D1%81%D1%82%D0%B8_%D0%B3%D1%80%D0%B0%D1%84%D0%B0) - узлы, связанные между собой рёбрами\n",
        "\n",
        "+ **Коэффициент ассортативности (assortativity coefficient)** определяет, с кем связаны узлы-хабы (с большим количеством связей): если с другими узлами-хабами, то значение коэффициента высокое, а если нет – низкое.\n",
        "\n",
        "+ **Плотность графа (density)** – отношение числа ребер к максимально возможному. В сообществах, высокий коэффициент кластеризации и высокая плотность.\n",
        "\n",
        "+ **Степень, или мощность узла (degree)** – это количество его связей.\n",
        "\n",
        "+ **Взвешенная степень (weighed degree)** – это количество связей узла, разделенное на общее количество связей в графе.\n",
        "\n",
        "+ **Важность** узла можно определять разными способами:\n",
        "    + **degree centrality**: у кого больше связей, тот и важнее\n",
        "    + **closeness centrality**: чем центральнее узел (т.е. чем короче путь от него до всех остальных узлов), тем он важнее\n",
        "    + **betweenness centrality**: количество кратчайших путей, проходящих через узел\n",
        "    + **eigencentrality**: чем больше друзей у твоих друзей, тем ты важнее\n",
        "\n",
        "Все это можно посчитать с помощью `networkx`, вот [соответсветствующий раздел документации](https://networkx.github.io/documentation/networkx-2.2/reference/algorithms/centrality.html)."
      ]
    },
    {
      "cell_type": "code",
      "metadata": {
        "colab": {
          "base_uri": "https://localhost:8080/"
        },
        "id": "plzVeKbQUCuH",
        "outputId": "22b6ba0b-d54e-4dc7-f3fb-c67a5d4f44a6"
      },
      "source": [
        "# Центральность узлов (важность узлов)\n",
        "\n",
        "deg = nx.degree_centrality(G)\n",
        "for nodeid in sorted(deg, key=deg.get, reverse=True):\n",
        "    print(nodeid)"
      ],
      "execution_count": 23,
      "outputs": [
        {
          "output_type": "stream",
          "text": [
            "1\n",
            "3\n",
            "5\n",
            "2\n",
            "4\n"
          ],
          "name": "stdout"
        }
      ]
    },
    {
      "cell_type": "code",
      "metadata": {
        "colab": {
          "base_uri": "https://localhost:8080/"
        },
        "id": "dzmfm3OnUCuL",
        "outputId": "b1d077b4-6353-49bd-d54e-c63f5b795702"
      },
      "source": [
        "b = nx.betweenness_centrality(G)\n",
        "for nodeid in sorted(b, key=b.get, reverse=True):\n",
        "    print(nodeid)"
      ],
      "execution_count": 22,
      "outputs": [
        {
          "output_type": "stream",
          "text": [
            "1\n",
            "2\n",
            "3\n",
            "4\n",
            "5\n"
          ],
          "name": "stdout"
        }
      ]
    },
    {
      "cell_type": "markdown",
      "metadata": {
        "id": "bZpPSLuQUCuO"
      },
      "source": [
        "**Коэффициент кластеризации (clustering coefficient)** – степень взаимодействия между собой ближайших соседей узла, т.е. вероятность того, что ближайшие соседи узла будут связаны не только с ним, но и между собой."
      ]
    },
    {
      "cell_type": "code",
      "metadata": {
        "colab": {
          "base_uri": "https://localhost:8080/"
        },
        "id": "6wHvA78gUCuO",
        "outputId": "ba626f35-fefa-4ce9-e090-ebed612ba427"
      },
      "source": [
        "print(nx.average_clustering(G))\n",
        "print(nx.transitivity(G)) # транзитивен ли граф, есть ли в нём треугольники?"
      ],
      "execution_count": 26,
      "outputs": [
        {
          "output_type": "stream",
          "text": [
            "0.4333333333333334\n",
            "0.375\n"
          ],
          "name": "stdout"
        }
      ]
    },
    {
      "cell_type": "markdown",
      "metadata": {
        "id": "oYhYtmF9UCuQ"
      },
      "source": [
        "**Модулярность (modularity)** показывает, насколько при заданном разбиении графа на группы плотность связей внутри группы больше плотности связей между группами. С помощью этой метрики граф разбивается на сообщества.\n",
        "\n",
        "**Сообщество** – это плотный подграф, где все (или почти все) узлы связаны между собой."
      ]
    },
    {
      "cell_type": "code",
      "metadata": {
        "id": "wCA66TFwUCuQ"
      },
      "source": [
        "from networkx.algorithms import community"
      ],
      "execution_count": 27,
      "outputs": []
    },
    {
      "cell_type": "markdown",
      "metadata": {
        "id": "GqG804UQUCuQ"
      },
      "source": [
        "[Вот тут](https://networkx.github.io/documentation/latest/reference/algorithms/community.html) можно найти алгоритмы для выделения сообществ."
      ]
    },
    {
      "cell_type": "code",
      "metadata": {
        "colab": {
          "base_uri": "https://localhost:8080/"
        },
        "id": "01YPlQkmUCuR",
        "outputId": "3f40e604-8632-4c71-a861-b26da53c4ca5"
      },
      "source": [
        "communities_generator = community.girvan_newman(G)\n",
        "top_level_communities = next(communities_generator)\n",
        "next_level_communities = next(communities_generator)\n",
        "print(\"top level communities:\", sorted(map(sorted, top_level_communities)))\n",
        "print(\"next level communities:\", sorted(map(sorted, next_level_communities)))"
      ],
      "execution_count": 28,
      "outputs": [
        {
          "output_type": "stream",
          "text": [
            "top level communities: [[1, 3, 4, 5], [2]]\n",
            "next level communities: [[1, 3, 5], [2], [4]]\n"
          ],
          "name": "stdout"
        }
      ]
    },
    {
      "cell_type": "markdown",
      "metadata": {
        "id": "uhpCjupuUCuS"
      },
      "source": [
        "#### Пример\n",
        "\n",
        "В качестве примера, в том числе, визуализации графа, даю ссылку на [работу Ильи Макарчука](https://colab.research.google.com/drive/1mxPMnEWB0F6A5LnpKRD5rg-tecyv3zIp#scrollTo=-FM1jXb_9-yr). Просьба не распространять"
      ]
    },
    {
      "cell_type": "markdown",
      "metadata": {
        "id": "w4J7_Jf3UCuX"
      },
      "source": [
        "#### Gephi\n",
        "\n",
        "Программа Gephi умеет делать вещи намного красивее, чем `matplotlib`, так что можно создать граф с помощью питона, а потом загрузить его в Gephi и считать статистику по графу и визуализировать его уже там. Или можно задать граф в csv-файлах (нужны отдельные файлы для узлов и для рёбер) и отредактировать, разбить на сообщества в Gephi. \n",
        "\n",
        "Хорошие тьюториалы по программе:\n",
        "\n",
        "- https://www.youtube.com/watch?v=2FqM4gKeNO4\n",
        "\n",
        "- https://www.youtube.com/watch?v=iQk1VOSMsbQ"
      ]
    },
    {
      "cell_type": "markdown",
      "metadata": {
        "id": "YLN-iUBPUCuX"
      },
      "source": [
        "#### Статьи с использованием графов\n",
        "\n",
        "Библиография по лингвистическим (+ когнитивным) статьям, где используются графы:\n",
        "\n",
        "https://cqllab.upc.edu/biblio/networks/\n",
        "\n",
        "Обзор одной из этих статей может стать темой вашего эссе "
      ]
    }
  ]
}