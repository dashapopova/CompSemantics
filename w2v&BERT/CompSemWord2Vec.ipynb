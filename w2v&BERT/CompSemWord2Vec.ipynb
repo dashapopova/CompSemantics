{
 "cells": [
  {
   "cell_type": "markdown",
   "metadata": {},
   "source": [
    "# Векторные модели. Word2Vec"
   ]
  },
  {
   "cell_type": "markdown",
   "metadata": {},
   "source": [
    "## Кратко о существующих системах\n",
    "\n",
    "**GloVe**\n",
    "\n",
    "GloVe берет и строит полную матрицу совместной встречаемости и после этого с помощью алгоритмов уменьшения размерности преобразует ее так, чтобы вектора были опредленной длины\n",
    "\n",
    "\n",
    "**Word2Vec**\n",
    "\n",
    "Это уже нейросеть и она на основе корпуса постепенно подбирает коэффициенты (значения в векторах) для каждого слова так, чтобы с помощью них можно было наилучшим образом предсказывать слова по контексту\n",
    "\n",
    "**FastText**\n",
    "\n",
    "Если мы берем конкретные слова, мы не можем ничего сказать о тех, что нам не встретились (например, уже видели вагон и строитель, а вот вагоностроителя у нас не было). Если мы возьмем слова не целиком, а в виде будквенных нграмм, то мы сможем сложить неизвестные слова.\n",
    "\n",
    "**AdaGram**\n",
    "\n",
    "Все предыдущие модели основаны на графических оболочках и не учитывают многозначность и омонимию. Есть только один вектор для слова \"ключ\" и мы ничего с этим не можем сделать. AdaGram исходит из предположения, что у слова есть n вариантов и если они действительно отличаются и достаточно часто встречаются, он умеет их разделить.\n",
    "\n",
    "**BERT и ELMo**\n",
    "\n",
    "Эти модели не просто могут отличить значения слов, о и скорректировать их вектора в зависимости от контекста, например, понять, что в отрывках “чистый ключ в лесной чаще” и “ключ от квартиры” совсем разные “ключи”. "
   ]
  },
  {
   "cell_type": "markdown",
   "metadata": {},
   "source": [
    "### Word2Vec"
   ]
  },
  {
   "cell_type": "markdown",
   "metadata": {},
   "source": [
    "Одной из самых известных моделей для работы с дистрибутивной семантикой является word2vec. Технология основана на нейронной сети, предсказывающей вероятность встретить слово в заданном контексте. Этот инструмент был разработан группой исследователей Google в 2013 году, руководителем проекта был Томаш Миколов (сейчас работает в Facebook). Вот две самые главные статьи:\n",
    "\n",
    "+ [Efficient Estimation of Word Representations inVector Space](https://arxiv.org/pdf/1301.3781.pdf)\n",
    "+ [Distributed Representations of Words and Phrases and their Compositionality](https://arxiv.org/abs/1310.4546)\n",
    "\n",
    "Полученные таким образом вектора называются распределенными представлениями слов, или **эмбеддингами**."
   ]
  },
  {
   "cell_type": "markdown",
   "metadata": {},
   "source": [
    "#### Как это обучается?\n",
    "\n",
    "Мы задаём вектор для каждого слова с помощью матрицы $w$ и вектор контекста с помощью матрицы $W$. По сути, word2vec является обобщающим названием для двух архитектур Skip-Gram и Continuous Bag-Of-Words (CBOW).\n",
    "\n",
    "+ **CBOW** предсказывает текущее слово, исходя из окружающего его контекста.\n",
    "\n",
    "+ **Skip-gram**, наоборот, использует текущее слово, чтобы предугадывать окружающие его слова.\n",
    "\n",
    "#### Как это работает?\n",
    "\n",
    "Word2vec принимает большой текстовый корпус в качестве входных данных и сопоставляет каждому слову вектор, выдавая координаты слов на выходе. Сначала он создает словарь, «обучаясь» на входных текстовых данных, а затем вычисляет векторное представление слов. Векторное представление основывается на контекстной близости: слова, встречающиеся в тексте рядом с одинаковыми словами (а следовательно, согласно дистрибутивной гипотезе, имеющие схожий смысл), в векторном представлении будут иметь близкие координаты векторов-слов. Для вычисления близости слов используется косинусное расстояние между их векторами.\n",
    "\n",
    "С помощью дистрибутивных векторных моделей можно строить семантические пропорции (они же аналогии) и решать примеры:\n",
    "\n",
    "+ король: мужчина = королева: женщина $\\Rightarrow$\n",
    "+ король - мужчина + женщина = королева\n",
    "\n",
    "![w2v](https://cdn-images-1.medium.com/max/2600/1*sXNXYfAqfLUeiDXPCo130w.png)\n",
    "\n",
    "Ещё про механику с картинками [тут](https://habr.com/ru/post/446530/)\n",
    "\n",
    "#### Зачем это нужно?\n",
    "\n",
    "+ используется для решения семантических задач\n",
    "+ давайте подумаем, для описания каких семантических классов слов дистрибутивная информация особенно важна?\n",
    "+ несколько интересных статей по дистрибутивной семантике:\n",
    "\n",
    "* [Turney and Pantel 2010](https://jair.org/index.php/jair/article/view/10640)\n",
    "* [Lenci 2018](https://www.annualreviews.org/doi/abs/10.1146/annurev-linguistics-030514-125254?journalCode=linguistics)\n",
    "* [Smith 2019](https://arxiv.org/pdf/1902.06006.pdf)\n",
    "* [Pennington et al. 2014](https://www.aclweb.org/anthology/D14-1162/)\n",
    "* [Faruqui et al. 2015](https://www.aclweb.org/anthology/N15-1184/)\n",
    "\n",
    "+ подаётся на вход нейронным сетям\n",
    "+ используется в Siri, Google Assistant, Alexa, Google Translate...\n",
    "\n",
    "#### Gensim\n",
    "\n",
    "Использовать предобученную модель эмбеддингов или обучить свою можно с помощью библиотеки `gensim`. Вот ее [документация](https://radimrehurek.com/gensim/models/word2vec.html). Вообще-то `gensim` — библиотека для тематического моделирования текстов, но один из компонентов в ней — реализация на python алгоритмов из библиотеки word2vec (которая в оригинале была написана на C++).\n",
    "\n",
    "Если gensim у вас не стоит, то ставим: `pip install gensim`. Можно сделать это прямо из jupyter'а! Чтобы выполнить какую-то команду не в питоне, в командной строке, нужно написать перед ней восклицательный знак.\n"
   ]
  },
  {
   "cell_type": "code",
   "execution_count": 2,
   "metadata": {},
   "outputs": [
    {
     "name": "stderr",
     "output_type": "stream",
     "text": [
      "C:\\ProgramData\\Anaconda3\\lib\\site-packages\\smart_open\\ssh.py:34: UserWarning: paramiko missing, opening SSH/SCP/SFTP paths will be disabled.  `pip install paramiko` to suppress\n",
      "  warnings.warn('paramiko missing, opening SSH/SCP/SFTP paths will be disabled.  `pip install paramiko` to suppress')\n"
     ]
    }
   ],
   "source": [
    "import re\n",
    "import gensim\n",
    "import logging\n",
    "import nltk.data\n",
    "import pandas as pd\n",
    "import urllib.request\n",
    "from bs4 import BeautifulSoup\n",
    "from nltk.corpus import stopwords\n",
    "from gensim.models import word2vec\n",
    "\n",
    "import warnings\n",
    "warnings.filterwarnings('ignore')"
   ]
  },
  {
   "cell_type": "markdown",
   "metadata": {},
   "source": [
    "#### Как обучить свою модель\n",
    "\n",
    "NB! Обратите внимание, что тренировка модели не включает препроцессинг! Это значит, что избавляться от пунктуации, приводить слова к нижнему регистру, лемматизировать их, проставлять частеречные теги придется до тренировки модели (если, конечно, это необходимо для вашей задачи). Т.е. в каком виде слова будут в исходном тексте, в таком они будут и в модели.\n",
    "\n",
    "Поскольку иногда тренировка модели занимает много времени, то можно ещё вести лог событий, чтобы понимать, что на каком этапе происходит."
   ]
  },
  {
   "cell_type": "code",
   "execution_count": 3,
   "metadata": {},
   "outputs": [],
   "source": [
    "logging.basicConfig(format='%(asctime)s : %(levelname)s : %(message)s', level=logging.INFO)"
   ]
  },
  {
   "cell_type": "markdown",
   "metadata": {},
   "source": [
    "На вход модели даем текстовый файл, каждое предложение на отдельной строчке. Вот игрушечный пример с текстом «Бедной Лизы». Он заранее очищен от пунктуации, приведен к нижнему регистру и лемматизирован."
   ]
  },
  {
   "cell_type": "code",
   "execution_count": 4,
   "metadata": {},
   "outputs": [],
   "source": [
    "f = 'liza_lem.txt'\n",
    "data = gensim.models.word2vec.LineSentence(f)"
   ]
  },
  {
   "cell_type": "markdown",
   "metadata": {},
   "source": [
    "Инициализируем модель. Основные параметры:\n",
    "\n",
    "+ данные должны быть итерируемым объектом\n",
    "+ size — размер вектора,\n",
    "+ window — размер окна наблюдения,\n",
    "+ min_count — мин. частотность слова в корпусе,\n",
    "+ sg — используемый алгоритм обучения (0 — CBOW, 1 — Skip-gram),\n",
    "+ sample — порог для downsampling'a высокочастотных слов,\n",
    "+ workers — количество потоков,\n",
    "+ alpha — learning rate,\n",
    "+ iter — количество итераций,\n",
    "+ max_vocab_size — позволяет выставить ограничение по памяти при создании словаря (т.е. если ограничение привышается, то низкочастотные слова будут выбрасываться). Для сравнения: 10 млн слов = 1Гб RAM."
   ]
  },
  {
   "cell_type": "code",
   "execution_count": 24,
   "metadata": {},
   "outputs": [
    {
     "name": "stderr",
     "output_type": "stream",
     "text": [
      "2019-10-17 20:34:43,388 : INFO : collecting all words and their counts\n",
      "2019-10-17 20:34:43,396 : WARNING : this function is deprecated, use smart_open.open instead\n",
      "2019-10-17 20:34:43,407 : INFO : PROGRESS: at sentence #0, processed 0 words, keeping 0 word types\n",
      "2019-10-17 20:34:43,415 : INFO : collected 1213 word types from a corpus of 3109 raw words and 392 sentences\n",
      "2019-10-17 20:34:43,420 : INFO : Loading a fresh vocabulary\n",
      "2019-10-17 20:34:43,427 : INFO : effective_min_count=2 retains 478 unique words (39% of original 1213, drops 735)\n",
      "2019-10-17 20:34:43,431 : INFO : effective_min_count=2 leaves 2374 word corpus (76% of original 3109, drops 735)\n",
      "2019-10-17 20:34:43,439 : INFO : deleting the raw counts dictionary of 1213 items\n",
      "2019-10-17 20:34:43,441 : INFO : sample=0.001 downsamples 83 most-common words\n",
      "2019-10-17 20:34:43,445 : INFO : downsampling leaves estimated 1817 word corpus (76.6% of prior 2374)\n",
      "2019-10-17 20:34:43,450 : INFO : estimated required memory for 478 words and 300 dimensions: 1386200 bytes\n",
      "2019-10-17 20:34:43,458 : INFO : resetting layer weights\n",
      "2019-10-17 20:34:43,482 : INFO : training model with 3 workers on 478 vocabulary and 300 features, using sg=0 hs=0 sample=0.001 negative=5 window=5\n",
      "2019-10-17 20:34:43,496 : WARNING : this function is deprecated, use smart_open.open instead\n",
      "2019-10-17 20:34:43,528 : INFO : worker thread finished; awaiting finish of 2 more threads\n",
      "2019-10-17 20:34:43,534 : INFO : worker thread finished; awaiting finish of 1 more threads\n",
      "2019-10-17 20:34:44,419 : INFO : worker thread finished; awaiting finish of 0 more threads\n",
      "2019-10-17 20:34:44,424 : INFO : EPOCH - 1 : training on 3109 raw words (1817 effective words) took 0.9s, 2001 effective words/s\n",
      "2019-10-17 20:34:44,434 : WARNING : this function is deprecated, use smart_open.open instead\n",
      "2019-10-17 20:34:44,479 : INFO : worker thread finished; awaiting finish of 2 more threads\n",
      "2019-10-17 20:34:44,484 : INFO : worker thread finished; awaiting finish of 1 more threads\n",
      "2019-10-17 20:34:45,508 : INFO : EPOCH 2 - PROGRESS: at 100.00% examples, 1711 words/s, in_qsize 0, out_qsize 1\n",
      "2019-10-17 20:34:45,513 : INFO : worker thread finished; awaiting finish of 0 more threads\n",
      "2019-10-17 20:34:45,516 : INFO : EPOCH - 2 : training on 3109 raw words (1795 effective words) took 1.1s, 1698 effective words/s\n",
      "2019-10-17 20:34:45,544 : WARNING : this function is deprecated, use smart_open.open instead\n",
      "2019-10-17 20:34:45,578 : INFO : worker thread finished; awaiting finish of 2 more threads\n",
      "2019-10-17 20:34:45,583 : INFO : worker thread finished; awaiting finish of 1 more threads\n",
      "2019-10-17 20:34:46,511 : INFO : worker thread finished; awaiting finish of 0 more threads\n",
      "2019-10-17 20:34:46,517 : INFO : EPOCH - 3 : training on 3109 raw words (1820 effective words) took 1.0s, 1915 effective words/s\n",
      "2019-10-17 20:34:46,529 : WARNING : this function is deprecated, use smart_open.open instead\n",
      "2019-10-17 20:34:46,567 : INFO : worker thread finished; awaiting finish of 2 more threads\n",
      "2019-10-17 20:34:46,571 : INFO : worker thread finished; awaiting finish of 1 more threads\n",
      "2019-10-17 20:34:47,675 : INFO : EPOCH 4 - PROGRESS: at 100.00% examples, 1628 words/s, in_qsize 0, out_qsize 1\n",
      "2019-10-17 20:34:47,680 : INFO : worker thread finished; awaiting finish of 0 more threads\n",
      "2019-10-17 20:34:47,682 : INFO : EPOCH - 4 : training on 3109 raw words (1822 effective words) took 1.1s, 1618 effective words/s\n",
      "2019-10-17 20:34:47,694 : WARNING : this function is deprecated, use smart_open.open instead\n",
      "2019-10-17 20:34:47,732 : INFO : worker thread finished; awaiting finish of 2 more threads\n",
      "2019-10-17 20:34:47,735 : INFO : worker thread finished; awaiting finish of 1 more threads\n",
      "2019-10-17 20:34:48,693 : INFO : worker thread finished; awaiting finish of 0 more threads\n",
      "2019-10-17 20:34:48,699 : INFO : EPOCH - 5 : training on 3109 raw words (1808 effective words) took 1.0s, 1847 effective words/s\n",
      "2019-10-17 20:34:48,709 : WARNING : this function is deprecated, use smart_open.open instead\n",
      "2019-10-17 20:34:48,758 : INFO : worker thread finished; awaiting finish of 2 more threads\n",
      "2019-10-17 20:34:48,762 : INFO : worker thread finished; awaiting finish of 1 more threads\n",
      "2019-10-17 20:34:49,661 : INFO : worker thread finished; awaiting finish of 0 more threads\n",
      "2019-10-17 20:34:49,663 : INFO : EPOCH - 6 : training on 3109 raw words (1814 effective words) took 0.9s, 1955 effective words/s\n",
      "2019-10-17 20:34:49,677 : WARNING : this function is deprecated, use smart_open.open instead\n",
      "2019-10-17 20:34:49,725 : INFO : worker thread finished; awaiting finish of 2 more threads\n",
      "2019-10-17 20:34:49,728 : INFO : worker thread finished; awaiting finish of 1 more threads\n",
      "2019-10-17 20:34:50,658 : INFO : worker thread finished; awaiting finish of 0 more threads\n",
      "2019-10-17 20:34:50,664 : INFO : EPOCH - 7 : training on 3109 raw words (1819 effective words) took 1.0s, 1914 effective words/s\n",
      "2019-10-17 20:34:50,676 : WARNING : this function is deprecated, use smart_open.open instead\n",
      "2019-10-17 20:34:50,722 : INFO : worker thread finished; awaiting finish of 2 more threads\n",
      "2019-10-17 20:34:50,740 : INFO : worker thread finished; awaiting finish of 1 more threads\n",
      "2019-10-17 20:34:51,719 : INFO : EPOCH 8 - PROGRESS: at 100.00% examples, 1775 words/s, in_qsize 0, out_qsize 1\n",
      "2019-10-17 20:34:51,724 : INFO : worker thread finished; awaiting finish of 0 more threads\n",
      "2019-10-17 20:34:51,728 : INFO : EPOCH - 8 : training on 3109 raw words (1798 effective words) took 1.0s, 1760 effective words/s\n",
      "2019-10-17 20:34:51,754 : WARNING : this function is deprecated, use smart_open.open instead\n",
      "2019-10-17 20:34:51,787 : INFO : worker thread finished; awaiting finish of 2 more threads\n",
      "2019-10-17 20:34:51,789 : INFO : worker thread finished; awaiting finish of 1 more threads\n",
      "2019-10-17 20:34:52,697 : INFO : worker thread finished; awaiting finish of 0 more threads\n",
      "2019-10-17 20:34:52,700 : INFO : EPOCH - 9 : training on 3109 raw words (1826 effective words) took 0.9s, 1974 effective words/s\n",
      "2019-10-17 20:34:52,707 : WARNING : this function is deprecated, use smart_open.open instead\n",
      "2019-10-17 20:34:52,752 : INFO : worker thread finished; awaiting finish of 2 more threads\n",
      "2019-10-17 20:34:52,756 : INFO : worker thread finished; awaiting finish of 1 more threads\n",
      "2019-10-17 20:34:53,698 : INFO : worker thread finished; awaiting finish of 0 more threads\n",
      "2019-10-17 20:34:53,703 : INFO : EPOCH - 10 : training on 3109 raw words (1832 effective words) took 1.0s, 1921 effective words/s\n",
      "2019-10-17 20:34:53,715 : WARNING : this function is deprecated, use smart_open.open instead\n",
      "2019-10-17 20:34:53,761 : INFO : worker thread finished; awaiting finish of 2 more threads\n",
      "2019-10-17 20:34:53,770 : INFO : worker thread finished; awaiting finish of 1 more threads\n",
      "2019-10-17 20:34:54,657 : INFO : worker thread finished; awaiting finish of 0 more threads\n",
      "2019-10-17 20:34:54,664 : INFO : EPOCH - 11 : training on 3109 raw words (1808 effective words) took 0.9s, 1960 effective words/s\n",
      "2019-10-17 20:34:54,675 : WARNING : this function is deprecated, use smart_open.open instead\n",
      "2019-10-17 20:34:54,719 : INFO : worker thread finished; awaiting finish of 2 more threads\n",
      "2019-10-17 20:34:54,722 : INFO : worker thread finished; awaiting finish of 1 more threads\n",
      "2019-10-17 20:34:55,701 : INFO : EPOCH 12 - PROGRESS: at 100.00% examples, 1777 words/s, in_qsize 0, out_qsize 1\n",
      "2019-10-17 20:34:55,706 : INFO : worker thread finished; awaiting finish of 0 more threads\n",
      "2019-10-17 20:34:55,711 : INFO : EPOCH - 12 : training on 3109 raw words (1778 effective words) took 1.0s, 1760 effective words/s\n",
      "2019-10-17 20:34:55,728 : WARNING : this function is deprecated, use smart_open.open instead\n",
      "2019-10-17 20:34:55,769 : INFO : worker thread finished; awaiting finish of 2 more threads\n",
      "2019-10-17 20:34:55,771 : INFO : worker thread finished; awaiting finish of 1 more threads\n",
      "2019-10-17 20:34:56,946 : INFO : EPOCH 13 - PROGRESS: at 100.00% examples, 1557 words/s, in_qsize 0, out_qsize 1\n",
      "2019-10-17 20:34:56,950 : INFO : worker thread finished; awaiting finish of 0 more threads\n",
      "2019-10-17 20:34:56,952 : INFO : EPOCH - 13 : training on 3109 raw words (1833 effective words) took 1.2s, 1549 effective words/s\n"
     ]
    },
    {
     "name": "stderr",
     "output_type": "stream",
     "text": [
      "2019-10-17 20:34:56,958 : WARNING : this function is deprecated, use smart_open.open instead\n",
      "2019-10-17 20:34:56,995 : INFO : worker thread finished; awaiting finish of 2 more threads\n",
      "2019-10-17 20:34:57,002 : INFO : worker thread finished; awaiting finish of 1 more threads\n",
      "2019-10-17 20:34:58,142 : INFO : EPOCH 14 - PROGRESS: at 100.00% examples, 1593 words/s, in_qsize 0, out_qsize 1\n",
      "2019-10-17 20:34:58,146 : INFO : worker thread finished; awaiting finish of 0 more threads\n",
      "2019-10-17 20:34:58,150 : INFO : EPOCH - 14 : training on 3109 raw words (1836 effective words) took 1.2s, 1581 effective words/s\n",
      "2019-10-17 20:34:58,159 : WARNING : this function is deprecated, use smart_open.open instead\n",
      "2019-10-17 20:34:58,192 : INFO : worker thread finished; awaiting finish of 2 more threads\n",
      "2019-10-17 20:34:58,203 : INFO : worker thread finished; awaiting finish of 1 more threads\n",
      "2019-10-17 20:34:59,313 : INFO : EPOCH 15 - PROGRESS: at 100.00% examples, 1600 words/s, in_qsize 0, out_qsize 1\n",
      "2019-10-17 20:34:59,315 : INFO : worker thread finished; awaiting finish of 0 more threads\n",
      "2019-10-17 20:34:59,317 : INFO : EPOCH - 15 : training on 3109 raw words (1815 effective words) took 1.1s, 1594 effective words/s\n",
      "2019-10-17 20:34:59,323 : WARNING : this function is deprecated, use smart_open.open instead\n",
      "2019-10-17 20:34:59,355 : INFO : worker thread finished; awaiting finish of 2 more threads\n",
      "2019-10-17 20:34:59,357 : INFO : worker thread finished; awaiting finish of 1 more threads\n",
      "2019-10-17 20:35:00,412 : INFO : EPOCH 16 - PROGRESS: at 100.00% examples, 1680 words/s, in_qsize 0, out_qsize 1\n",
      "2019-10-17 20:35:00,415 : INFO : worker thread finished; awaiting finish of 0 more threads\n",
      "2019-10-17 20:35:00,419 : INFO : EPOCH - 16 : training on 3109 raw words (1797 effective words) took 1.1s, 1669 effective words/s\n",
      "2019-10-17 20:35:00,428 : WARNING : this function is deprecated, use smart_open.open instead\n",
      "2019-10-17 20:35:00,462 : INFO : worker thread finished; awaiting finish of 2 more threads\n",
      "2019-10-17 20:35:00,466 : INFO : worker thread finished; awaiting finish of 1 more threads\n",
      "2019-10-17 20:35:01,390 : INFO : worker thread finished; awaiting finish of 0 more threads\n",
      "2019-10-17 20:35:01,395 : INFO : EPOCH - 17 : training on 3109 raw words (1822 effective words) took 0.9s, 1932 effective words/s\n",
      "2019-10-17 20:35:01,405 : WARNING : this function is deprecated, use smart_open.open instead\n",
      "2019-10-17 20:35:01,454 : INFO : worker thread finished; awaiting finish of 2 more threads\n",
      "2019-10-17 20:35:01,461 : INFO : worker thread finished; awaiting finish of 1 more threads\n",
      "2019-10-17 20:35:02,553 : INFO : EPOCH 18 - PROGRESS: at 100.00% examples, 1637 words/s, in_qsize 0, out_qsize 1\n",
      "2019-10-17 20:35:02,560 : INFO : worker thread finished; awaiting finish of 0 more threads\n",
      "2019-10-17 20:35:02,563 : INFO : EPOCH - 18 : training on 3109 raw words (1818 effective words) took 1.1s, 1622 effective words/s\n",
      "2019-10-17 20:35:02,580 : WARNING : this function is deprecated, use smart_open.open instead\n",
      "2019-10-17 20:35:02,617 : INFO : worker thread finished; awaiting finish of 2 more threads\n",
      "2019-10-17 20:35:02,623 : INFO : worker thread finished; awaiting finish of 1 more threads\n",
      "2019-10-17 20:35:03,692 : INFO : EPOCH 19 - PROGRESS: at 100.00% examples, 1661 words/s, in_qsize 0, out_qsize 1\n",
      "2019-10-17 20:35:03,695 : INFO : worker thread finished; awaiting finish of 0 more threads\n",
      "2019-10-17 20:35:03,697 : INFO : EPOCH - 19 : training on 3109 raw words (1808 effective words) took 1.1s, 1652 effective words/s\n",
      "2019-10-17 20:35:03,705 : WARNING : this function is deprecated, use smart_open.open instead\n",
      "2019-10-17 20:35:03,735 : INFO : worker thread finished; awaiting finish of 2 more threads\n",
      "2019-10-17 20:35:03,738 : INFO : worker thread finished; awaiting finish of 1 more threads\n",
      "2019-10-17 20:35:04,777 : INFO : EPOCH 20 - PROGRESS: at 100.00% examples, 1735 words/s, in_qsize 0, out_qsize 1\n",
      "2019-10-17 20:35:04,779 : INFO : worker thread finished; awaiting finish of 0 more threads\n",
      "2019-10-17 20:35:04,782 : INFO : EPOCH - 20 : training on 3109 raw words (1824 effective words) took 1.1s, 1725 effective words/s\n",
      "2019-10-17 20:35:04,788 : INFO : training on a 62180 raw words (36290 effective words) took 21.3s, 1704 effective words/s\n",
      "2019-10-17 20:35:04,794 : WARNING : under 10 jobs per worker: consider setting a smaller `batch_words' for smoother alpha decay\n"
     ]
    },
    {
     "name": "stdout",
     "output_type": "stream",
     "text": [
      "Wall time: 21.4 s\n"
     ]
    }
   ],
   "source": [
    "%time model_liza = gensim.models.Word2Vec(data, size=300, window=5, min_count=2, iter=20)"
   ]
  },
  {
   "cell_type": "markdown",
   "metadata": {},
   "source": [
    "Можно нормализовать вектора, тогда модель будет занимать меньше RAM. Однако после этого её нельзя дотренировывать. Здесь используется L2-нормализация: вектора нормализуются так, что если сложить квадраты всех элементов вектора, в сумме получится 1."
   ]
  },
  {
   "cell_type": "code",
   "execution_count": 25,
   "metadata": {},
   "outputs": [
    {
     "name": "stderr",
     "output_type": "stream",
     "text": [
      "2019-10-17 20:35:04,821 : INFO : precomputing L2-norms of word weight vectors\n",
      "2019-10-17 20:35:04,870 : INFO : storing 478x300 projection weights into liza.bin\n",
      "2019-10-17 20:35:04,876 : WARNING : this function is deprecated, use smart_open.open instead\n"
     ]
    },
    {
     "name": "stdout",
     "output_type": "stream",
     "text": [
      "Saving model...\n"
     ]
    }
   ],
   "source": [
    "model_liza.init_sims(replace=True)\n",
    "model_path = \"liza.bin\"\n",
    "\n",
    "print(\"Saving model...\")\n",
    "model_liza.wv.save_word2vec_format(model_path, binary=True)"
   ]
  },
  {
   "cell_type": "markdown",
   "metadata": {},
   "source": [
    "Смотрим, сколько в модели слов:"
   ]
  },
  {
   "cell_type": "code",
   "execution_count": 26,
   "metadata": {},
   "outputs": [
    {
     "name": "stdout",
     "output_type": "stream",
     "text": [
      "478\n"
     ]
    }
   ],
   "source": [
    "print(len(model_liza.wv.vocab))"
   ]
  },
  {
   "cell_type": "code",
   "execution_count": 27,
   "metadata": {},
   "outputs": [
    {
     "name": "stdout",
     "output_type": "stream",
     "text": [
      "['анюта', 'армия', 'ах', 'барин', 'бедный', 'белый', 'берег', 'березовый', 'беречь', 'бесчисленный', 'благодарить', 'бледный', 'блеснуть', 'блестящий', 'близ', 'бог', 'богатый', 'большой', 'бояться', 'брать', 'бросать', 'бросаться', 'бывать', 'быть', 'важный', 'ввечеру', 'вдова', 'велеть', 'великий', 'великолепный', 'верить', 'верно', 'весело', 'веселый', 'весна', 'вести', 'весь', 'весьма', 'ветвь', 'ветер', 'вечер', 'взглядывать', 'вздох', 'вздыхать', 'взор', 'взять', 'вид', 'видеть', 'видеться', 'видный', 'вместе', 'вода', 'возвращаться', 'воздух', 'война', 'воображать', 'воображение', 'воспоминание', 'восторг', 'восхищаться', 'время', 'все', 'вслед', 'вставать', 'встречаться', 'всякий', 'высокий', 'выть', 'выходить', 'глаз', 'глубокий', 'гнать', 'говорить', 'год', 'голос', 'гора', 'горе', 'горестный', 'горлица', 'город', 'горький', 'господь', 'гром', 'грусть', 'давать', 'давно', 'далее', 'дверь', 'движение', 'двор', 'девушка', 'дело', 'день', 'деньги', 'деревня', 'деревянный', 'десять', 'добро', 'добрый', 'довольно', 'доживать', 'долго', 'должный', 'дом', 'домой', 'дочь', 'древний', 'друг', 'другой', 'дуб', 'думать', 'душа', 'едва', 'ехать', 'жалобный', 'желание', 'желать', 'жениться', 'жених', 'женщина', 'жестокий', 'живой', 'жизнь', 'жить', 'забава', 'заблуждение', 'забывать', 'завтра', 'задумчивость', 'закраснеться', 'закричать', 'заря', 'здешний', 'здравствовать', 'зеленый', 'земля', 'златой', 'знать', 'ибо', 'играть', 'идти', 'имя', 'искать', 'исполняться', 'испугаться', 'история', 'исчезать', 'кабинет', 'казаться', 'какой', 'капля', 'карета', 'карман', 'картина', 'катиться', 'келья', 'клятва', 'колено', 'копейка', 'который', 'красота', 'крест', 'крестьянин', 'крестьянка', 'кровь', 'кроме', 'кто', 'купить', 'ландыш', 'ласка', 'ласковый', 'левый', 'лес', 'лететь', 'летний', 'лето', 'лиза', 'лизин', 'лизина', 'лицо', 'лишний', 'лодка', 'ложиться', 'луг', 'луч', 'любезный', 'любить', 'любовь', 'лютый', 'матушка', 'мать', 'место', 'месяц', 'мечта', 'милый', 'мимо', 'минута', 'многочисленный', 'могила', 'мой', 'молить', 'молиться', 'молния', 'молодой', 'молодость', 'молчать', 'монастырь', 'море', 'москва', 'москва-река', 'мочь', 'мрак', 'мрачный', 'муж', 'мы', 'мысль', 'наглядеться', 'надеяться', 'надлежать', 'надобно', 'называть', 'наступать', 'натура', 'находить', 'наш', 'небесный', 'небо', 'невинность', 'невинный', 'неделя', 'нежели', 'нежный', 'незнакомец', 'некоторый', 'непорочность', 'неприятель', 'несколько', 'никакой', 'никто', 'новый', 'ночь', 'обижать', 'облако', 'обманывать', 'обморок', 'образ', 'обращаться', 'обстоятельство', 'объятие', 'огонь', 'один', 'однако', 'окно', 'окрестности', 'он', 'она', 'они', 'оно', 'опираться', 'описывать', 'опустеть', 'освещать', 'оставаться', 'оставлять', 'останавливать', 'останавливаться', 'отвечать', 'отдавать', 'отец', 'отечество', 'отменно', 'отрада', 'очень', 'падать', 'память', 'пастух', 'первый', 'перемениться', 'переставать', 'песня', 'петь', 'печальный', 'писать', 'питать', 'плакать', 'побежать', 'побледнеть', 'погибать', 'подавать', 'подгорюниваться', 'подле', 'подозревать', 'подымать', 'поехать', 'пойти', 'показываться', 'поклониться', 'покойный', 'покрывать', 'покрываться', 'покупать', 'полагать', 'поле', 'помнить', 'поселянин', 'последний', 'постой', 'потуплять', 'поцеловать', 'поцелуй', 'правый', 'представляться', 'прежде', 'преклонять', 'прекрасный', 'прелестный', 'приводить', 'прижимать', 'принадлежать', 'принуждать', 'природа', 'приходить', 'приятно', 'приятный', 'провожать', 'продавать', 'проливать', 'простой', 'просыпаться', 'проходить', 'проч', 'прощать', 'прощаться', 'пруд', 'птичка', 'пылать', 'пять', 'работа', 'работать', 'радость', 'рассказывать', 'расставаться', 'рвать', 'ребенок', 'река', 'решаться', 'робкий', 'роза', 'розовый', 'роман', 'российский', 'роща', 'рубль', 'рука', 'сам', 'самый', 'свет', 'светиться', 'светлый', 'свидание', 'свирель', 'свободно', 'свое', 'свой', 'свойство', 'сделать', 'сделаться', 'сей', 'сердечный', 'сердце', 'сидеть', 'сие', 'сиять', 'сказать', 'сказывать', 'сквозь', 'скорбь', 'скоро', 'скрываться', 'слабый', 'слеза', 'слезать', 'слово', 'случаться', 'слушать', 'слышать', 'смерть', 'сметь', 'смотреть', 'собственный', 'соглашаться', 'солнце', 'спасать', 'спокойно', 'спокойствие', 'спрашивать', 'стадо', 'становиться', 'стараться', 'старуха', 'старушка', 'старый', 'статься', 'стена', 'сто', 'столь', 'стон', 'стонать', 'сторона', 'стоять', 'страшно', 'страшный', 'судьба', 'схватывать', 'счастие', 'счастливый', 'сын', 'таить', 'такой', 'твой', 'темный', 'тения', 'тихий', 'тихонько', 'томный', 'тот', 'трава', 'трепетать', 'трогать', 'ты', 'убивать', 'уверять', 'увидеть', 'увидеться', 'удерживать', 'удивляться', 'удовольствие', 'узнавать', 'улица', 'улыбка', 'уметь', 'умирать', 'унылый', 'упасть', 'услышать', 'утешение', 'утро', 'хижина', 'хлеб', 'ходить', 'холм', 'хороший', 'хотеть', 'хотеться', 'хотя', 'худо', 'худой', 'царь', 'цветок', 'целовать', 'час', 'часто', 'человек', 'чистый', 'читатель', 'чувствительный', 'чувство', 'чувствовать', 'чулок', 'шестой', 'шум', 'шуметь', 'щадить', 'щека', 'эраст', 'эрастов', 'это', 'я']\n"
     ]
    }
   ],
   "source": [
    "print(sorted([w for w in model_liza.wv.vocab]))"
   ]
  },
  {
   "cell_type": "markdown",
   "metadata": {},
   "source": [
    "И чему же мы ее научили? Попробуем оценить модель вручную, порешав примеры. Несколько дано ниже, попробуйте придумать свои."
   ]
  },
  {
   "cell_type": "code",
   "execution_count": 28,
   "metadata": {},
   "outputs": [
    {
     "data": {
      "text/plain": [
       "[('свой', 0.9896478056907654)]"
      ]
     },
     "execution_count": 28,
     "metadata": {},
     "output_type": "execute_result"
    }
   ],
   "source": [
    "model_liza.wv.most_similar(positive=[\"смерть\", \"любовь\"], negative=[\"печальный\"], topn=1)"
   ]
  },
  {
   "cell_type": "code",
   "execution_count": 29,
   "metadata": {},
   "outputs": [
    {
     "data": {
      "text/plain": [
       "[('свой', 0.9973198175430298),\n",
       " ('лиза', 0.9972617626190186),\n",
       " ('сей', 0.9968301057815552)]"
      ]
     },
     "execution_count": 29,
     "metadata": {},
     "output_type": "execute_result"
    }
   ],
   "source": [
    "model_liza.wv.most_similar(\"любовь\", topn=3)"
   ]
  },
  {
   "cell_type": "code",
   "execution_count": 30,
   "metadata": {},
   "outputs": [
    {
     "data": {
      "text/plain": [
       "0.9977509"
      ]
     },
     "execution_count": 30,
     "metadata": {},
     "output_type": "execute_result"
    }
   ],
   "source": [
    "model_liza.wv.similarity(\"лиза\", \"эраст\")"
   ]
  },
  {
   "cell_type": "code",
   "execution_count": 38,
   "metadata": {},
   "outputs": [
    {
     "data": {
      "text/plain": [
       "0.99999994"
      ]
     },
     "execution_count": 38,
     "metadata": {},
     "output_type": "execute_result"
    }
   ],
   "source": [
    "model_liza.wv.similarity(\"лиза\", \"лиза\")"
   ]
  },
  {
   "cell_type": "code",
   "execution_count": 31,
   "metadata": {},
   "outputs": [
    {
     "data": {
      "text/plain": [
       "'грусть'"
      ]
     },
     "execution_count": 31,
     "metadata": {},
     "output_type": "execute_result"
    }
   ],
   "source": [
    "model_liza.wv.doesnt_match(\"скорбь грусть слеза улыбка\".split())"
   ]
  },
  {
   "cell_type": "code",
   "execution_count": 32,
   "metadata": {},
   "outputs": [
    {
     "data": {
      "text/plain": [
       "['свой',\n",
       " 'который',\n",
       " 'мочь',\n",
       " 'сказать',\n",
       " 'сей',\n",
       " 'сердце',\n",
       " 'мой',\n",
       " 'любить',\n",
       " 'мать',\n",
       " 'рука',\n",
       " 'друг',\n",
       " 'часто',\n",
       " 'один',\n",
       " 'душа',\n",
       " 'смотреть',\n",
       " 'лизин',\n",
       " 'взять',\n",
       " 'чистый',\n",
       " 'берег']"
      ]
     },
     "execution_count": 32,
     "metadata": {},
     "output_type": "execute_result"
    }
   ],
   "source": [
    "model_liza.wv.words_closer_than(\"лиза\", \"эраст\")"
   ]
  },
  {
   "cell_type": "markdown",
   "metadata": {},
   "source": [
    "#### Параметры варьирования\n",
    "\n",
    "1) препроцессинг -- лемматизировать или нет\n",
    "\n",
    "2) размер корпуса -- чем больше, тем лучше, но! не для семантических задач -- для них важнее качество\n",
    "\n",
    "3) размер словаря\n",
    "\n",
    "4) negative samples\n",
    "\n",
    "5) количество итераций\n",
    "\n",
    "6) длина вектора -- 100-300 (судя по всему, >300 не сильно улучшает результаты)\n",
    "\n",
    "7) длина окна -- для синтаксических задач, примерно 4, для семантических задач, большое окно, 8, 10.\n",
    "\n",
    "Хорошая статья про сравнение моделей с варьированием параметров: https://www.aclweb.org/anthology/D14-1162.pdf\n",
    "\n",
    "#### Как использовать готовую модель\n",
    "\n",
    "#### RusVectōrēs\n",
    "\n",
    "На сайте RusVectōrēs (https://rusvectores.org/ru/) собраны предобученные на различных данных модели для русского языка, а также можно поискать наиболее близкие слова к заданному, посчитать семантическую близость нескольких слов и порешать примеры с помощью «калькулятором семантической близости».\n",
    "\n",
    "Для других языков также можно найти предобученные модели — например, модели [fastText](https://fasttext.cc/docs/en/english-vectors.html) и [GloVe](https://nlp.stanford.edu/projects/glove/)\n",
    "\n",
    "Ещё давайте посмотрим на векторные романы https://nevmenandr.github.io/novel2vec/"
   ]
  },
  {
   "cell_type": "markdown",
   "metadata": {},
   "source": [
    "#### Работа с моделью\n",
    "\n",
    "Модели word2vec бывают разных форматов:\n",
    "\n",
    "+ .vec.gz — обычный файл\n",
    "+ .bin.gz — бинарник\n",
    "\n",
    "Загружаются они с помощью одного и того же гласса `KeyedVectors`, меняется только параметр `binary` у функции `load_word2vec_format`.\n",
    "\n",
    "Если же эмбеддинги обучены не с помощью word2vec, то для загрузки нужно использовать функцию `load`. Т.е. для загрузки предобученных эмбеддингов `glove`, `fasttext`, `bpe` и любых других нужна именно она.\n",
    "\n",
    "Скачаем с RusVectōrēs модель для русского языка, обученную на НКРЯ образца 2015 г."
   ]
  },
  {
   "cell_type": "code",
   "execution_count": 3,
   "metadata": {},
   "outputs": [
    {
     "data": {
      "text/plain": [
       "('ruscorpora_mystem_cbow_300_2_2015.bin.gz',\n",
       " <http.client.HTTPMessage at 0xb9d3128>)"
      ]
     },
     "execution_count": 3,
     "metadata": {},
     "output_type": "execute_result"
    }
   ],
   "source": [
    "urllib.request.urlretrieve(\"http://rusvectores.org/static/models/rusvectores2/ruscorpora_mystem_cbow_300_2_2015.bin.gz\", \"ruscorpora_mystem_cbow_300_2_2015.bin.gz\")"
   ]
  },
  {
   "cell_type": "code",
   "execution_count": 4,
   "metadata": {},
   "outputs": [],
   "source": [
    "m = 'ruscorpora_mystem_cbow_300_2_2015.bin.gz'\n",
    "\n",
    "if m.endswith('.vec.gz'):\n",
    "    model = gensim.models.KeyedVectors.load_word2vec_format(m, binary=False)\n",
    "elif m.endswith('.bin.gz'):\n",
    "    model = gensim.models.KeyedVectors.load_word2vec_format(m, binary=True)\n",
    "else:\n",
    "    model = gensim.models.KeyedVectors.load(m)"
   ]
  },
  {
   "cell_type": "code",
   "execution_count": 5,
   "metadata": {},
   "outputs": [],
   "source": [
    "words = ['хороший_A', 'плохой_A', 'ужасный_A','жуткий_A', 'страшный_A', 'красный_A', 'синий_A']"
   ]
  },
  {
   "cell_type": "markdown",
   "metadata": {},
   "source": [
    "Частеречные тэги нужны, поскольку это специфика скачанной модели - она была натренирована на словах, аннотированных их частями речи (и лемматизированных). NB! В названиях моделей на `rusvectores` указано, какой тегсет они используют (mystem, upos и т.д.)\n",
    "\n",
    "Попросим у модели 10 ближайших соседей для каждого слова и коэффициент косинусной близости для каждого:\n"
   ]
  },
  {
   "cell_type": "code",
   "execution_count": 6,
   "metadata": {},
   "outputs": [
    {
     "name": "stdout",
     "output_type": "stream",
     "text": [
      "хороший_A\n",
      "[ 0.00722357 -0.00361956  0.1272455   0.06584469  0.00709477 -0.02014845\n",
      " -0.02056034  0.01321563  0.13692418 -0.09624264]\n",
      "плохой_A 0.7463520765304565\n",
      "неплохой_A 0.6708558797836304\n",
      "отличный_A 0.6633436679840088\n",
      "превосходный_A 0.6079519987106323\n",
      "замечательный_A 0.586450457572937\n",
      "недурной_A 0.5322482585906982\n",
      "отменный_A 0.5168066024780273\n",
      "прекрасный_A 0.4982394576072693\n",
      "посредственный_A 0.49099433422088623\n",
      "приличный_A 0.48622459173202515\n",
      "\n",
      "\n",
      "плохой_A\n",
      "[-0.05218472  0.0307817   0.1459371   0.0151835   0.06219714  0.01153753\n",
      " -0.01169093  0.01818374  0.0955373  -0.10191503]\n",
      "хороший_A 0.7463520765304565\n",
      "дурной_A 0.6186875700950623\n",
      "скверный_A 0.6014161109924316\n",
      "отличный_A 0.5226833820343018\n",
      "посредственный_A 0.5061031579971313\n",
      "неважный_A 0.5021153092384338\n",
      "неплохой_A 0.49169063568115234\n",
      "никудышный_A 0.48035895824432373\n",
      "ухудшать_V 0.43680471181869507\n",
      "плохо_ADV 0.4314875304698944\n",
      "\n",
      "\n",
      "ужасный_A\n",
      "[-0.05553271 -0.03172469  0.01998607  0.00171507 -0.00935555 -0.0296017\n",
      "  0.05394973  0.01597532 -0.03785459 -0.02099892]\n",
      "страшный_A 0.8007249236106873\n",
      "жуткий_A 0.6982528567314148\n",
      "отвратительный_A 0.6798903942108154\n",
      "ужасающий_A 0.6174499988555908\n",
      "чудовищный_A 0.6100855469703674\n",
      "постыдный_A 0.6009703874588013\n",
      "невероятный_A 0.5827823281288147\n",
      "ужасать_V 0.5815353393554688\n",
      "кошмарный_A 0.5675789713859558\n",
      "позорный_A 0.5351496338844299\n",
      "\n",
      "\n",
      "жуткий_A\n",
      "[-0.07627533 -0.06143281 -0.02622319 -0.03769541 -0.00350412 -0.01479934\n",
      "  0.03325103  0.06712756 -0.0044996   0.0145266 ]\n",
      "ужасный_A 0.6982529163360596\n",
      "страшный_A 0.6917036771774292\n",
      "зловещий_A 0.6490103006362915\n",
      "странный_A 0.6009964942932129\n",
      "отвратительный_A 0.5856714248657227\n",
      "тоскливый_A 0.5783498287200928\n",
      "кошмарный_A 0.5670032501220703\n",
      "гнетущий_A 0.5607055425643921\n",
      "чудовищный_A 0.5550791621208191\n",
      "мрачный_A 0.5542315244674683\n",
      "\n",
      "\n",
      "страшный_A\n",
      "[-0.12759186 -0.0206753   0.00979353 -0.02963523  0.03109632  0.02121338\n",
      " -0.02869159  0.02574235 -0.02556899 -0.03742376]\n",
      "ужасный_A 0.800724983215332\n",
      "жуткий_A 0.6917036771774292\n",
      "чудовищный_A 0.5934231877326965\n",
      "кошмарный_A 0.5395629405975342\n",
      "отвратительный_A 0.5351147651672363\n",
      "невероятный_A 0.520784854888916\n",
      "ужасающий_A 0.5174920558929443\n",
      "зловещий_A 0.5163233280181885\n",
      "жестокий_A 0.5096044540405273\n",
      "ужасать_V 0.5071669816970825\n",
      "\n",
      "\n",
      "красный_A\n",
      "[ 0.01627072 -0.01136785 -0.00790482  0.02294072  0.05129128  0.10162549\n",
      "  0.07488654 -0.06475785 -0.0203686   0.09159683]\n",
      "алый_A 0.642128586769104\n",
      "малиновый_A 0.6113020777702332\n",
      "красная_S 0.5526680946350098\n",
      "желтый_A 0.5431625247001648\n",
      "оранжевый_A 0.5371882319450378\n",
      "трехцветный_A 0.531793475151062\n",
      "пунцовый_A 0.5125025510787964\n",
      "синий_A 0.5102002024650574\n",
      "фиолетовый_A 0.5072877407073975\n",
      "лиловый_A 0.5004072785377502\n",
      "\n",
      "\n",
      "синий_A\n",
      "[-0.00614284  0.04970241 -0.00461786 -0.11465221  0.08177482  0.00020589\n",
      "  0.04895581  0.02750725 -0.05211812  0.06006202]\n",
      "голубой_A 0.855513334274292\n",
      "темно-синий_A 0.7498061656951904\n",
      "оранжевый_A 0.7341035008430481\n",
      "лиловый_A 0.7314398288726807\n",
      "фиолетовый_A 0.7291390895843506\n",
      "желтый_A 0.7263568639755249\n",
      "ярко-синий_A 0.6990128755569458\n",
      "черный_A 0.6909208297729492\n",
      "зеленый_A 0.6799378395080566\n",
      "коричневый_A 0.6729934215545654\n",
      "\n",
      "\n"
     ]
    }
   ],
   "source": [
    "for word in words:\n",
    "    # есть ли слово в модели? \n",
    "    if word in model:\n",
    "        print(word)\n",
    "        # смотрим на вектор слова (его размерность 300, смотрим на первые 10 чисел)\n",
    "        print(model[word][:10])\n",
    "        # выдаем 10 ближайших соседей слова:\n",
    "        for i in model.most_similar(positive=[word], topn=10):\n",
    "            # слово + коэффициент косинусной близости\n",
    "            print(i[0], i[1])\n",
    "        print('\\n')\n",
    "    else:\n",
    "        # Увы!\n",
    "        print('Увы, слова \"%s\" нет в модели!' % word)"
   ]
  },
  {
   "cell_type": "markdown",
   "metadata": {},
   "source": [
    "Находим косинусную близость пары слов:"
   ]
  },
  {
   "cell_type": "code",
   "execution_count": 7,
   "metadata": {},
   "outputs": [
    {
     "name": "stdout",
     "output_type": "stream",
     "text": [
      "0.7463521\n"
     ]
    }
   ],
   "source": [
    "print(model.similarity('плохой_A', 'хороший_A'))"
   ]
  },
  {
   "cell_type": "code",
   "execution_count": 8,
   "metadata": {},
   "outputs": [
    {
     "name": "stdout",
     "output_type": "stream",
     "text": [
      "-0.12778336\n"
     ]
    }
   ],
   "source": [
    "print(model.similarity('плохой_A', 'синий_A'))"
   ]
  },
  {
   "cell_type": "code",
   "execution_count": 9,
   "metadata": {},
   "outputs": [
    {
     "name": "stdout",
     "output_type": "stream",
     "text": [
      "0.6982529\n"
     ]
    }
   ],
   "source": [
    "print(model.similarity('ужасный_A', 'жуткий_A'))"
   ]
  },
  {
   "cell_type": "markdown",
   "metadata": {},
   "source": [
    "Пропорция\n",
    "\n",
    "+ positive — вектора, которые мы складываем\n",
    "+ negative — вектора, которые вычитаем"
   ]
  },
  {
   "cell_type": "code",
   "execution_count": 8,
   "metadata": {},
   "outputs": [
    {
     "name": "stdout",
     "output_type": "stream",
     "text": [
      "страшный_A\n"
     ]
    }
   ],
   "source": [
    "print(model.most_similar(positive=['плохой_A', 'ужасный_A'], negative=['хороший_A'])[0][0])"
   ]
  },
  {
   "cell_type": "markdown",
   "metadata": {},
   "source": [
    "Найди лишнее!"
   ]
  },
  {
   "cell_type": "code",
   "execution_count": 9,
   "metadata": {},
   "outputs": [
    {
     "name": "stdout",
     "output_type": "stream",
     "text": [
      "хороший_A\n"
     ]
    }
   ],
   "source": [
    "print(model.doesnt_match('плохой_A хороший_A ужасный_A страшный_A'.split()))"
   ]
  },
  {
   "cell_type": "code",
   "execution_count": 11,
   "metadata": {},
   "outputs": [
    {
     "name": "stdout",
     "output_type": "stream",
     "text": [
      "0.5575\tбезумно_ADV\n",
      "0.4791\tбезмерно_ADV\n",
      "0.4536\tжутко_ADV\n",
      "0.4472\tневероятно_ADV\n",
      "0.4394\tочень_ADV\n",
      "0.4364\tчертовски_ADV\n",
      "0.4231\tстрашно_ADV\n",
      "0.4124\tнеобычайно_ADV\n",
      "0.4119\tнестерпимо_ADV\n",
      "0.4005\tнеобыкновенно_ADV\n"
     ]
    }
   ],
   "source": [
    "for word, score in model.most_similar(positive=['ужасно_ADV'], negative=['плохой_A']):\n",
    "    print(f'{score:.4}\\t{word}')"
   ]
  },
  {
   "cell_type": "markdown",
   "metadata": {},
   "source": [
    "#### Оценка\n",
    "\n",
    "Это, конечно, хорошо, но как понять, какая модель лучше? Или вот, например, я сделал свою модель, а как понять, насколько она хорошая?\n",
    "\n",
    "Для этого существуют специальные датасеты для оценки качества дистрибутивных моделей. Основных два: один измеряет точность решения задач на аналогии (про Россию и пельмени), а второй используется для оценки коэффициента семантической близости.\n",
    "\n",
    "#### Word Similarity\n",
    "\n",
    "Этот метод заключается в том, чтобы оценить, насколько представления о семантической близости слов в модели соотносятся с \\\"представлениями\\\" людей.\n",
    "\n",
    "| слово 1    | слово 2    | близость |\n",
    "|------------|------------|----------|\n",
    "| кошка      | собака     | 0.7      | \n",
    "| чашка      | кружка     | 0.9      | \n",
    "\n",
    "Для каждой пары слов из заранее заданного датасета мы можем посчитать косинусное расстояние, и получить список таких значений близости. При этом у нас уже есть список значений близостей, сделанный людьми. Мы можем сравнить эти два списка и понять, насколько они похожи (например, посчитав корреляцию). Эта мера схожести должна говорить о том, насколько модель хорошо моделирует расстояния о слова.\n",
    "\n",
    "#### Аналогии\n",
    "\n",
    "Другая популярная задача для \"внутренней\" оценки называется задачей поиска аналогий. Как мы уже разбирали выше, с помощью простых арифметических операций мы можем модифицировать значение слова. Если заранее собрать набор слов-модификаторов, а также слов, которые мы хотим получить в результаты модификации, то на основе подсчёта количества \"попаданий\" в желаемое слово мы можем оценить, насколько хорошо работает модель.\n",
    "\n",
    "В качестве слов-модификатор мы можем использовать семантические аналогии. Скажем, если у нас есть некоторое отношение \"страна-столица\", то для оценки модели мы можем использовать пары наподобие \"Россия-Москва\", \"Норвегия-Осло\", и т.д. Датасет будет выглядеть следующм образом:\n",
    "\n",
    "| слово 1    | слово 2    | отношение     | \n",
    "|------------|------------|---------------|\n",
    "| Россия     | Москва     | страна-столица| \n",
    "| Норвегия   | Осло       | страна-столица|\n",
    "\n",
    "Рассматривая случайные две пары из этого набора, мы хотим, имея триплет (Россия, Москва, Норвегия) хотим получить слово \"Осло\", т.е. найти такое слово, которое будет находиться в том же отношении со словом \"Норвегия\", как \"Россия\" находится с Москвой.\n",
    "\n",
    "Датасеты для русского языка можно скачать на странице с моделями на RusVectores. Посчитаем качество нашей модели НКРЯ на датасете про аналогии:"
   ]
  },
  {
   "cell_type": "code",
   "execution_count": null,
   "metadata": {},
   "outputs": [],
   "source": [
    "res = model.accuracy('ru_analogy_tagged.txt')"
   ]
  },
  {
   "cell_type": "code",
   "execution_count": null,
   "metadata": {},
   "outputs": [],
   "source": [
    "for row in res[4]['incorrect'][:10]:\n",
    "    print('\\t'.join(row))"
   ]
  },
  {
   "cell_type": "markdown",
   "metadata": {},
   "source": [
    "**Визуализация**"
   ]
  },
  {
   "cell_type": "markdown",
   "metadata": {},
   "source": [
    "Можно использовать разные методы того, как преобразовать векторы так, чтобы можно было их поместить на двумерное пространство, например, с помощью PCA. В зависимости от того, относительно какого набора слов вы пытаетесь найти оптимально отображение на двумерное пространство, у вас могут получаться разные результаты"
   ]
  },
  {
   "cell_type": "code",
   "execution_count": 10,
   "metadata": {},
   "outputs": [],
   "source": [
    "from sklearn.decomposition import PCA\n",
    "import matplotlib.pyplot as plt\n",
    "%matplotlib inline"
   ]
  },
  {
   "cell_type": "code",
   "execution_count": 11,
   "metadata": {},
   "outputs": [],
   "source": [
    "words = ['хороший_A', 'плохой_A', 'ужасный_A','жуткий_A', 'страшный_A', 'красный_A', 'синий_A']\n",
    "X = model[words]"
   ]
  },
  {
   "cell_type": "markdown",
   "metadata": {},
   "source": [
    "На списке конкретных слов"
   ]
  },
  {
   "cell_type": "code",
   "execution_count": 20,
   "metadata": {},
   "outputs": [],
   "source": [
    "pca = PCA(n_components=2)\n",
    "coords = pca.fit_transform(X)"
   ]
  },
  {
   "cell_type": "code",
   "execution_count": 21,
   "metadata": {},
   "outputs": [
    {
     "data": {
      "image/png": "[encoded data removed]",
      "text/plain": [
       "<Figure size 432x288 with 1 Axes>"
      ]
     },
     "metadata": {},
     "output_type": "display_data"
    }
   ],
   "source": [
    "plt.scatter(coords[:, 0], coords[:, 1], color='red')\n",
    "plt.title('Words')\n",
    "\n",
    "for i, word in enumerate(words):\n",
    "    plt.annotate(word, xy=(coords[i, 0], coords[i, 1]))\n",
    "plt.show()"
   ]
  },
  {
   "cell_type": "markdown",
   "metadata": {},
   "source": [
    "На все словах в модели"
   ]
  },
  {
   "cell_type": "code",
   "execution_count": 14,
   "metadata": {},
   "outputs": [],
   "source": [
    "pca = PCA(n_components=2)\n",
    "pca.fit(model[list(model.vocab)])\n",
    "coords = pca.transform(model[words])"
   ]
  },
  {
   "cell_type": "code",
   "execution_count": 15,
   "metadata": {},
   "outputs": [
    {
     "data": {
      "image/png": "[encoded data removed]",
      "text/plain": [
       "<Figure size 432x288 with 1 Axes>"
      ]
     },
     "metadata": {},
     "output_type": "display_data"
    }
   ],
   "source": [
    "plt.scatter(coords[:, 0], coords[:, 1], color='red')\n",
    "plt.title('Words')\n",
    "\n",
    "for i, word in enumerate(words):\n",
    "    plt.annotate(word, xy=(coords[i, 0], coords[i, 1]))\n",
    "plt.show()"
   ]
  }
 ],
 "metadata": {
  "kernelspec": {
   "display_name": "Python 3",
   "language": "python",
   "name": "python3"
  },
  "language_info": {
   "codemirror_mode": {
    "name": "ipython",
    "version": 3
   },
   "file_extension": ".py",
   "mimetype": "text/x-python",
   "name": "python",
   "nbconvert_exporter": "python",
   "pygments_lexer": "ipython3",
   "version": "3.6.5"
  }
 },
 "nbformat": 4,
 "nbformat_minor": 2
}
